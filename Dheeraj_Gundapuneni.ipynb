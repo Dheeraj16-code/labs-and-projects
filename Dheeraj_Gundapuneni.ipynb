{
  "nbformat": 4,
  "nbformat_minor": 0,
  "metadata": {
    "colab": {
      "provenance": [],
      "authorship_tag": "ABX9TyNV4gb+Xzd+1pNOMuznioBu",
      "include_colab_link": true
    },
    "kernelspec": {
      "name": "python3",
      "display_name": "Python 3"
    },
    "language_info": {
      "name": "python"
    }
  },
  "cells": [
    {
      "cell_type": "markdown",
      "metadata": {
        "id": "view-in-github",
        "colab_type": "text"
      },
      "source": [
        "<a href=\"https://colab.research.google.com/github/Dheeraj16-code/labs-and-projects/blob/main/Dheeraj_Gundapuneni.ipynb\" target=\"_parent\"><img src=\"https://colab.research.google.com/assets/colab-badge.svg\" alt=\"Open In Colab\"/></a>"
      ]
    },
    {
      "cell_type": "markdown",
      "source": [
        "Basics of Linear Algebra"
      ],
      "metadata": {
        "id": "6rIHQva2eNvd"
      }
    },
    {
      "cell_type": "markdown",
      "source": [
        "Import the Numpy library for linear Algebra functions and Matplotlib for some plotting functions."
      ],
      "metadata": {
        "id": "z8QqnrYZeh4L"
      }
    },
    {
      "cell_type": "code",
      "source": [
        "import numpy as np\n",
        "import matplotlib.pyplot as plt"
      ],
      "metadata": {
        "id": "o9oI7sLLf10n"
      },
      "execution_count": 2,
      "outputs": []
    },
    {
      "cell_type": "markdown",
      "source": [
        "Transpose of a Matrix"
      ],
      "metadata": {
        "id": "QAZ8Uy2ZgDq0"
      }
    },
    {
      "cell_type": "markdown",
      "source": [
        "Matrix transpose is performed with the transpose method on a nested on a nesrted list or a python array, or a higher dimensional Numpy array."
      ],
      "metadata": {
        "id": "lYtOaOVEgU0M"
      }
    },
    {
      "cell_type": "code",
      "source": [
        "#Define matrices with different dimensions\n",
        "a=np.array([[1,2],[3,4]])\n",
        "b=np.array([[5,6,7],[8,9,10]])\n",
        "#Calculate transposes\n",
        "a_t=np.transpose(a)\n",
        "b_t=np.transpose(b)\n",
        "#print results\n",
        "print(\"Matrix A:\\n\",a)\n",
        "print(\"Transpose of A:\\n\",a_t)\n",
        "print(\"Matrix B:\\n\",b)\n",
        "print(\"Transpose of B:\\n\",b_t)"
      ],
      "metadata": {
        "colab": {
          "base_uri": "https://localhost:8080/"
        },
        "id": "aWjOHvRDkpUG",
        "outputId": "9d1c95fe-7281-48f2-e398-e4d3f9a04360"
      },
      "execution_count": 5,
      "outputs": [
        {
          "output_type": "stream",
          "name": "stdout",
          "text": [
            "Matrix A:\n",
            " [[1 2]\n",
            " [3 4]]\n",
            "Transpose of A:\n",
            " [[1 3]\n",
            " [2 4]]\n",
            "Matrix B:\n",
            " [[ 5  6  7]\n",
            " [ 8  9 10]]\n",
            "Transpose of B:\n",
            " [[ 5  8]\n",
            " [ 6  9]\n",
            " [ 7 10]]\n"
          ]
        }
      ]
    },
    {
      "cell_type": "markdown",
      "source": [
        "If the matrix is a Numpy array,It can be treated as an object and method T can be applied over it as follows."
      ],
      "metadata": {
        "id": "sbZ6lA8AnLgp"
      }
    },
    {
      "cell_type": "code",
      "source": [
        "import numpy as np\n",
        "a=np.array([[1,2,3,4],[2,3,4,5]])\n",
        "b=np.array([[1,2],[3,4],[5,6]])\n",
        "print(\"Matrix A:\\n\",a)\n",
        "print(\"Transpose of A:\\n\",a_t)\n",
        "print(\"Matrix B:\\n\",b)\n",
        "print(\"Transpose of B:\\n\",b_t)\n"
      ],
      "metadata": {
        "colab": {
          "base_uri": "https://localhost:8080/"
        },
        "id": "IifLgE22nxQG",
        "outputId": "82f4e113-2808-437c-9c55-af9caf71ddd6"
      },
      "execution_count": 7,
      "outputs": [
        {
          "output_type": "stream",
          "name": "stdout",
          "text": [
            "Matrix A:\n",
            " [[1 2 3 4]\n",
            " [2 3 4 5]]\n",
            "Transpose of A:\n",
            " [[1 3]\n",
            " [2 4]]\n",
            "Matrix B:\n",
            " [[1 2]\n",
            " [3 4]\n",
            " [5 6]]\n",
            "Transpose of B:\n",
            " [[ 5  8]\n",
            " [ 6  9]\n",
            " [ 7 10]]\n"
          ]
        }
      ]
    },
    {
      "cell_type": "markdown",
      "source": [
        "The dot method of Numpy performs dot-matrix product(scalar product) for 1-d or higher dimensional arrays.If the inputs are scalars (numbers),It can performs multiplications."
      ],
      "metadata": {
        "id": "m9AchSw7pT1g"
      }
    },
    {
      "cell_type": "code",
      "source": [
        "#Scalars\n",
        "import numpy as np\n",
        "a=10\n",
        "d=2\n",
        "w=np.dot(a,d)\n",
        "print(\"Dot product of Scalars:\",w)\n",
        "\n",
        "e=2\n",
        "f=np.array([1,2,3])\n",
        "g=e*f\n",
        "print(\"Scalar Multiplication:\",g)"
      ],
      "metadata": {
        "colab": {
          "base_uri": "https://localhost:8080/"
        },
        "id": "po2zKcmRr-ZK",
        "outputId": "100c5a41-b837-439e-fd23-05abc4c8f74c"
      },
      "execution_count": 10,
      "outputs": [
        {
          "output_type": "stream",
          "name": "stdout",
          "text": [
            "Dot product of Scalars: 20\n",
            "Scalar Multiplication: [2 4 6]\n"
          ]
        }
      ]
    },
    {
      "cell_type": "code",
      "source": [
        "w=a*d\n",
        "print(w)"
      ],
      "metadata": {
        "colab": {
          "base_uri": "https://localhost:8080/"
        },
        "id": "wBfixcIhtXF0",
        "outputId": "e8f1806d-2065-4c56-d041-c6dc82d3d2cf"
      },
      "execution_count": 11,
      "outputs": [
        {
          "output_type": "stream",
          "name": "stdout",
          "text": [
            "20\n"
          ]
        }
      ]
    },
    {
      "cell_type": "markdown",
      "source": [
        "In this case of one or higher dimensional arrays, the inputs can be either Numpy arrays,Python arrays or lists."
      ],
      "metadata": {
        "id": "a7eVXL6xtlPz"
      }
    },
    {
      "cell_type": "code",
      "source": [
        "#1D ARRAYS\n",
        "import numpy as np\n",
        "a=np.array([1,2,3])\n",
        "b=np.array([4,5,6])\n",
        "print(\"Dot product:\",np.dot(a,b))\n",
        "\n",
        "#Experimental\n",
        "c=[7,8,9]\n",
        "d=[10,11,12]\n",
        "print(\"Dot product:\", np.dot(c,d))"
      ],
      "metadata": {
        "colab": {
          "base_uri": "https://localhost:8080/"
        },
        "id": "9TY5CE_RvLgx",
        "outputId": "ff1309fb-e94b-4212-b533-d5703b224d37"
      },
      "execution_count": 13,
      "outputs": [
        {
          "output_type": "stream",
          "name": "stdout",
          "text": [
            "Dot product: 32\n",
            "Dot product: 266\n"
          ]
        }
      ]
    },
    {
      "cell_type": "code",
      "source": [
        "# Assuming I want to perform operations on the matrices defined in the previous code.\n",
        "# Example: Matrix addition\n",
        "\n",
        "import numpy as np\n",
        "\n",
        "a = np.array([[1, 2], [3, 4]])\n",
        "b = np.array([[5, 6, 7], [8, 9, 10]])\n",
        "\n",
        "# You can't directly add matrices of different dimensions.\n",
        "# If you want to demonstrate matrix operations, provide compatible matrices.\n",
        "\n",
        "# Example with compatible matrices:\n",
        "matrix1 = np.array([[1, 2], [3, 4]])\n",
        "matrix2 = np.array([[5, 6], [7, 8]])\n",
        "\n",
        "matrix_sum = matrix1 + matrix2\n",
        "print(\"Matrix Sum:\\n\", matrix_sum)\n",
        "\n",
        "# Example: Matrix multiplication\n",
        "matrix_product = np.dot(matrix1, matrix2)\n",
        "print(\"Matrix Product:\\n\", matrix_product)\n"
      ],
      "metadata": {
        "colab": {
          "base_uri": "https://localhost:8080/"
        },
        "id": "BhTpapAJwHJ7",
        "outputId": "cfd30bfa-5979-40f8-a0c2-7e32ecdb12da"
      },
      "execution_count": 16,
      "outputs": [
        {
          "output_type": "stream",
          "name": "stdout",
          "text": [
            "Matrix Sum:\n",
            " [[ 6  8]\n",
            " [10 12]]\n",
            "Matrix Product:\n",
            " [[19 22]\n",
            " [43 50]]\n"
          ]
        }
      ]
    },
    {
      "cell_type": "code",
      "source": [
        "import numpy as np\n",
        "\n",
        "def dot_product(a, b):\n",
        "  \"\"\"\n",
        "  Calculates the dot product of two arrays or matrices.\n",
        "\n",
        "  Args:\n",
        "    a: The first array or matrix.\n",
        "    b: The second array or matrix.\n",
        "\n",
        "  Returns:\n",
        "    The dot product of a and b. Returns an error message if the dot product is not defined\n",
        "  \"\"\"\n",
        "  try:\n",
        "    return np.dot(a, b)\n",
        "  except ValueError as e:\n",
        "    return f\"Error: {e}\"\n",
        "\n",
        "# Example usage with different inputs\n",
        "a = np.array([[1, 2], [3, 4]])\n",
        "b = np.array([[5, 6], [7, 8]])\n",
        "\n",
        "print(dot_product(a, b))  # Output: [[19 22] [43 50]]\n",
        "\n",
        "\n",
        "c = np.array([1, 2, 3])\n",
        "d = np.array([4, 5, 6])\n",
        "\n",
        "print(dot_product(c, d))  # Output: 32\n",
        "\n",
        "\n",
        "e = np.array([[1, 2], [3, 4]])\n",
        "f = np.array([5, 6, 7])\n",
        "\n",
        "print(dot_product(e, f)) # Output: Error: shapes (2,2) and (3,) not aligned: 2 (dim 1) != 3 (dim 0)\n"
      ],
      "metadata": {
        "colab": {
          "base_uri": "https://localhost:8080/"
        },
        "id": "5Jk9i09Ow_46",
        "outputId": "8979f832-10fb-4967-e167-e2a43aab6dd8"
      },
      "execution_count": 17,
      "outputs": [
        {
          "output_type": "stream",
          "name": "stdout",
          "text": [
            "[[19 22]\n",
            " [43 50]]\n",
            "32\n",
            "Error: shapes (2,2) and (3,) not aligned: 2 (dim 1) != 3 (dim 0)\n"
          ]
        }
      ]
    },
    {
      "cell_type": "markdown",
      "source": [
        "we can obtain the same result using np.matmul().\n"
      ],
      "metadata": {
        "id": "CoeVmw3Dxi_R"
      }
    },
    {
      "cell_type": "markdown",
      "source": [
        "NUMPY ARRAYS"
      ],
      "metadata": {
        "id": "ht1AlNeQx6he"
      }
    },
    {
      "cell_type": "code",
      "source": [
        "#CONVERT LISTS IN TO NUMPY ARRAYS\n",
        "import numpy as np\n",
        "\n",
        "# Example lists\n",
        "list1 = [1, 2, 3, 4, 5]\n",
        "list2 = [[1, 2, 3], [4, 5, 6]]\n",
        "\n",
        "# Convert lists to NumPy arrays\n",
        "array1 = np.array(list1)\n",
        "array2 = np.array(list2)\n",
        "\n",
        "# Print the arrays\n",
        "print(\"Array 1:\\n\", array1)\n",
        "print(\"Array 2:\\n\", array2)\n"
      ],
      "metadata": {
        "colab": {
          "base_uri": "https://localhost:8080/"
        },
        "id": "BtN3r5XEyA6V",
        "outputId": "ac86629d-629b-41f9-d65d-26a675569639"
      },
      "execution_count": 19,
      "outputs": [
        {
          "output_type": "stream",
          "name": "stdout",
          "text": [
            "Array 1:\n",
            " [1 2 3 4 5]\n",
            "Array 2:\n",
            " [[1 2 3]\n",
            " [4 5 6]]\n"
          ]
        }
      ]
    },
    {
      "cell_type": "markdown",
      "source": [
        "THE MULTI_DOT METHOD"
      ],
      "metadata": {
        "id": "tBrdEUiIybEl"
      }
    },
    {
      "cell_type": "code",
      "source": [
        "# MATRICES WITH RANDOM INTEGERS ENTRIES RAGING FROM -4 TO 4\n",
        "\n",
        "import numpy as np\n",
        "\n",
        "# Generate matrices with random integer entries ranging from -4 to 4\n",
        "def generate_random_matrix(rows, cols, min_val=-4, max_val=4):\n",
        "    return np.random.randint(min_val, max_val + 1, size=(rows, cols))\n",
        "\n",
        "# Example usage:\n",
        "rows1 = 2\n",
        "cols1 = 3\n",
        "matrix1 = generate_random_matrix(rows1, cols1)\n",
        "print(\"Matrix 1:\\n\", matrix1)\n",
        "\n",
        "\n",
        "rows2 = 3\n",
        "cols2 = 2\n",
        "matrix2 = generate_random_matrix(rows2, cols2)\n",
        "print(\"\\nMatrix 2:\\n\", matrix2)\n",
        "\n",
        "# ... (rest of your code)\n",
        "\n",
        "# Example with different parameters\n",
        "rows3 = 4\n",
        "cols3 = 4\n",
        "min_val = -10  # New minimum value\n",
        "max_val = 10  # New maximum value\n",
        "matrix3 = generate_random_matrix(rows3, cols3, min_val, max_val)\n",
        "\n",
        "print(f\"\\nMatrix 3 (with min={min_val}, max={max_val}):\\n{matrix3}\")\n",
        "\n",
        "# Example of matrix multiplication with the new matrix\n",
        "\n",
        "if cols1 == rows2: # Check for compatibility for matrix multiplication\n",
        "    product_matrix = np.dot(matrix1, matrix2)\n",
        "    print(\"\\nMatrix Product (Matrix1 * Matrix2):\\n\", product_matrix)\n",
        "else:\n",
        "    print(\"\\nMatrix multiplication is not possible due to incompatible dimensions.\")\n",
        "\n",
        "\n"
      ],
      "metadata": {
        "colab": {
          "base_uri": "https://localhost:8080/"
        },
        "id": "edkjxfMEyj_s",
        "outputId": "2c61b0f4-99d9-42d1-bda6-1361222bea9c"
      },
      "execution_count": 20,
      "outputs": [
        {
          "output_type": "stream",
          "name": "stdout",
          "text": [
            "Matrix 1:\n",
            " [[ 3 -1 -2]\n",
            " [ 1  2 -3]]\n",
            "\n",
            "Matrix 2:\n",
            " [[-1  3]\n",
            " [-1 -4]\n",
            " [ 1  0]]\n",
            "\n",
            "Matrix 3 (with min=-10, max=10):\n",
            "[[ -6   3  -8 -10]\n",
            " [ -4  -8  -8  10]\n",
            " [  1  -1   9  10]\n",
            " [ -4   0   4  10]]\n",
            "\n",
            "Matrix Product (Matrix1 * Matrix2):\n",
            " [[-4 13]\n",
            " [-6 -5]]\n"
          ]
        }
      ]
    },
    {
      "cell_type": "code",
      "source": [
        "#INNER PRODUCT\n",
        "\n",
        "import numpy as np\n",
        "# Example usage with different parameters for generate_random_matrix\n",
        "rows4 = 3\n",
        "cols4 = 3\n",
        "min_val = -2  # New minimum value\n",
        "max_val = 2  # New maximum value\n",
        "matrix4 = generate_random_matrix(rows4, cols4, min_val, max_val)\n",
        "\n",
        "print(f\"\\nMatrix 4 (with min={min_val}, max={max_val}):\\n{matrix4}\")\n",
        "\n",
        "# Example of matrix multiplication with the new matrix and existing ones\n",
        "\n",
        "if cols1 == rows4:  # Check for compatibility\n",
        "    product_matrix1 = np.dot(matrix1, matrix4)\n",
        "    print(\"\\nMatrix Product (Matrix1 * Matrix4):\\n\", product_matrix1)\n",
        "else:\n",
        "    print(\"\\nMatrix multiplication (Matrix1 * Matrix4) is not possible due to incompatible dimensions.\")\n",
        "\n",
        "if cols2 == rows4: #check for compatibility\n",
        "  product_matrix2 = np.dot(matrix2, matrix4)\n",
        "  print(\"\\nMatrix product (Matrix2 * Matrix4):\\n\", product_matrix2)\n",
        "else:\n",
        "    print(\"\\nMatrix multiplication (Matrix2 * Matrix4) is not possible due to incompatible dimensions.\")\n",
        "\n",
        "if cols4 == rows1:\n",
        "  product_matrix3 = np.dot(matrix4, matrix1)\n",
        "  print(\"\\nMatrix product (Matrix4 * Matrix1):\\n\", product_matrix3)\n",
        "else:\n",
        "    print(\"\\nMatrix multiplication (Matrix4 * Matrix1) is not possible due to incompatible dimensions.\")\n"
      ],
      "metadata": {
        "colab": {
          "base_uri": "https://localhost:8080/"
        },
        "id": "e2pAbY-2zRcJ",
        "outputId": "c66ea2cf-be27-47fc-ee1c-143dd29932b6"
      },
      "execution_count": 21,
      "outputs": [
        {
          "output_type": "stream",
          "name": "stdout",
          "text": [
            "\n",
            "Matrix 4 (with min=-2, max=2):\n",
            "[[-2 -1 -2]\n",
            " [ 0  2  1]\n",
            " [-1  0  0]]\n",
            "\n",
            "Matrix Product (Matrix1 * Matrix4):\n",
            " [[-4 -5 -7]\n",
            " [ 1  3  0]]\n",
            "\n",
            "Matrix multiplication (Matrix2 * Matrix4) is not possible due to incompatible dimensions.\n",
            "\n",
            "Matrix multiplication (Matrix4 * Matrix1) is not possible due to incompatible dimensions.\n"
          ]
        }
      ]
    },
    {
      "cell_type": "code",
      "source": [
        "# OUTER PRODUCT\n",
        "\n",
        "import numpy as np\n",
        "\n",
        "def outer_product(a, b):\n",
        "    \"\"\"\n",
        "    Calculates the outer product of two vectors.\n",
        "\n",
        "    Args:\n",
        "        a: The first vector (NumPy array).\n",
        "        b: The second vector (NumPy array).\n",
        "\n",
        "    Returns:\n",
        "        The outer product of a and b (NumPy array), or an error message if the inputs are invalid.\n",
        "    \"\"\"\n",
        "    try:\n",
        "        return np.outer(a, b)\n",
        "    except ValueError as e:\n",
        "        return f\"Error: {e}\"\n",
        "\n",
        "# Example usage\n",
        "vector1 = np.array([1, 2, 3])\n",
        "vector2 = np.array([4, 5, 6])\n",
        "\n",
        "result = outer_product(vector1, vector2)\n",
        "print(result)\n",
        "\n",
        "\n",
        "vector3 = np.array([1, 2])\n",
        "vector4 = np.array([3, 4, 5])\n",
        "result2 = outer_product(vector3, vector4)\n",
        "result2\n"
      ],
      "metadata": {
        "colab": {
          "base_uri": "https://localhost:8080/"
        },
        "id": "rvoO4qmFzQdy",
        "outputId": "b9153d7d-9520-4065-95fe-1884746ed417"
      },
      "execution_count": 22,
      "outputs": [
        {
          "output_type": "stream",
          "name": "stdout",
          "text": [
            "[[ 4  5  6]\n",
            " [ 8 10 12]\n",
            " [12 15 18]]\n"
          ]
        },
        {
          "output_type": "execute_result",
          "data": {
            "text/plain": [
              "array([[ 3,  4,  5],\n",
              "       [ 6,  8, 10]])"
            ]
          },
          "metadata": {},
          "execution_count": 22
        }
      ]
    },
    {
      "cell_type": "markdown",
      "source": [
        "Matrix Determinant"
      ],
      "metadata": {
        "id": "w53_ah0T3j4U"
      }
    },
    {
      "cell_type": "code",
      "source": [
        "#  matrix determinant\n",
        "\n",
        "import numpy as np\n",
        "\n",
        "def matrix_determinant(matrix):\n",
        "    \"\"\"\n",
        "    Calculates the determinant of a square matrix.\n",
        "\n",
        "    Args:\n",
        "        matrix: A NumPy array representing a square matrix.\n",
        "\n",
        "    Returns:\n",
        "        The determinant of the matrix, or an error message if the input is invalid.\n",
        "    \"\"\"\n",
        "    try:\n",
        "        return np.linalg.det(matrix)\n",
        "    except np.linalg.LinAlgError:\n",
        "        return \"Error: Matrix is not square or singular.\"\n",
        "    except ValueError:\n",
        "        return \"Error: Invalid input matrix.\"\n",
        "\n",
        "\n",
        "# Example usage\n",
        "matrix5 = np.array([[1, 2], [3, 4]])\n",
        "det5 = matrix_determinant(matrix5)\n",
        "print(f\"\\nDeterminant of Matrix 5:\\n{det5}\")\n",
        "\n",
        "matrix6 = np.array([[1, 2, 3], [4, 5, 6], [7, 8, 9]])\n",
        "det6 = matrix_determinant(matrix6)\n",
        "print(f\"\\nDeterminant of Matrix 6:\\n{det6}\")\n",
        "\n",
        "matrix7 = np.array([[1, 2], [3,4], [5,6]]) # Non-square matrix\n",
        "det7 = matrix_determinant(matrix7)\n",
        "print(f\"\\nDeterminant of Matrix 7:\\n{det7}\")\n",
        "\n",
        "# Example with a singular matrix (determinant is zero)\n",
        "singular_matrix = np.array([[1, 2], [2, 4]])\n",
        "det_singular = matrix_determinant(singular_matrix)\n",
        "print(f\"\\nDeterminant of singular matrix:\\n{det_singular}\")\n"
      ],
      "metadata": {
        "colab": {
          "base_uri": "https://localhost:8080/"
        },
        "id": "MpdvjFnx4CrE",
        "outputId": "86714945-37b9-4850-862c-5d5ad739c2ed"
      },
      "execution_count": 29,
      "outputs": [
        {
          "output_type": "stream",
          "name": "stdout",
          "text": [
            "\n",
            "Determinant of Matrix 5:\n",
            "-2.0000000000000004\n",
            "\n",
            "Determinant of Matrix 6:\n",
            "0.0\n",
            "\n",
            "Determinant of Matrix 7:\n",
            "Error: Matrix is not square or singular.\n",
            "\n",
            "Determinant of singular matrix:\n",
            "0.0\n"
          ]
        }
      ]
    },
    {
      "cell_type": "markdown",
      "source": [
        "Matrix Inverse"
      ],
      "metadata": {
        "id": "9KrqU1bo4exf"
      }
    },
    {
      "cell_type": "code",
      "source": [
        "# prompt: matrix inverse by adding new parameters try to code in short lines of code\n",
        "\n",
        "import numpy as np\n",
        "\n",
        "def matrix_inverse(matrix):\n",
        "    \"\"\"Calculates the inverse of a square matrix.\n",
        "\n",
        "    Args:\n",
        "      matrix: A NumPy array representing a square matrix.\n",
        "\n",
        "    Returns:\n",
        "      The inverse of the matrix, or an error message if the input is invalid or the matrix is singular.\n",
        "    \"\"\"\n",
        "    try:\n",
        "        return np.linalg.inv(matrix)\n",
        "    except np.linalg.LinAlgError:\n",
        "        return \"Error: Matrix is singular or not square.\"\n",
        "    except ValueError:\n",
        "        return \"Error: Invalid input matrix.\"\n",
        "\n",
        "# Example usage\n",
        "matrix8 = np.array([[1, 2], [3, 4]])\n",
        "inv8 = matrix_inverse(matrix8)\n",
        "print(f\"\\nInverse of Matrix 8:\\n{inv8}\")\n",
        "\n",
        "matrix9 = np.array([[1, 2, 3], [0, 1, 4], [5, 6, 0]])\n",
        "inv9 = matrix_inverse(matrix9)\n",
        "print(f\"\\nInverse of Matrix 9:\\n{inv9}\")\n",
        "\n",
        "singular_matrix = np.array([[1, 2], [2, 4]])\n",
        "inv_singular = matrix_inverse(singular_matrix)  # Will print the error message\n",
        "print(f\"\\nInverse of singular matrix:\\n{inv_singular}\")\n",
        "\n",
        "# Example with different parameters for generate_random_matrix (from previous code)\n",
        "rows = 3\n",
        "cols = 3\n",
        "min_val = -2\n",
        "max_val = 2\n",
        "matrix10 = np.random.randint(min_val, max_val + 1, size=(rows, cols))\n",
        "\n",
        "print(f\"\\nMatrix 10:\\n{matrix10}\")\n",
        "inv10 = matrix_inverse(matrix10)\n",
        "print(f\"\\nInverse of Matrix 10:\\n{inv10}\")\n"
      ],
      "metadata": {
        "colab": {
          "base_uri": "https://localhost:8080/"
        },
        "id": "6w4UKdyU4z4x",
        "outputId": "47130dbb-075e-4f14-c741-f9c49a44c5f0"
      },
      "execution_count": 31,
      "outputs": [
        {
          "output_type": "stream",
          "name": "stdout",
          "text": [
            "\n",
            "Inverse of Matrix 8:\n",
            "[[-2.   1. ]\n",
            " [ 1.5 -0.5]]\n",
            "\n",
            "Inverse of Matrix 9:\n",
            "[[-24.  18.   5.]\n",
            " [ 20. -15.  -4.]\n",
            " [ -5.   4.   1.]]\n",
            "\n",
            "Inverse of singular matrix:\n",
            "Error: Matrix is singular or not square.\n",
            "\n",
            "Matrix 10:\n",
            "[[ 1  0 -2]\n",
            " [-1  1  2]\n",
            " [-1  0 -1]]\n",
            "\n",
            "Inverse of Matrix 10:\n",
            "[[ 0.33333333  0.         -0.66666667]\n",
            " [ 1.          1.          0.        ]\n",
            " [-0.33333333 -0.         -0.33333333]]\n"
          ]
        }
      ]
    },
    {
      "cell_type": "markdown",
      "source": [
        "Power of matrix"
      ],
      "metadata": {
        "id": "fnfH4cE35J0R"
      }
    },
    {
      "cell_type": "code",
      "source": [
        " #POWER OF MATRIX\n",
        "import numpy as np\n",
        "\n",
        "def matrix_power(matrix, power):\n",
        "    \"\"\"\n",
        "    Raises a square matrix to a given power.\n",
        "\n",
        "    Args:\n",
        "      matrix: A NumPy array representing a square matrix.\n",
        "      power: The power to raise the matrix to (integer).\n",
        "\n",
        "    Returns:\n",
        "      The matrix raised to the given power, or an error message if the input is invalid.\n",
        "    \"\"\"\n",
        "    try:\n",
        "        if not isinstance(power, int):\n",
        "            raise ValueError(\"Power must be an integer.\")\n",
        "\n",
        "        return np.linalg.matrix_power(matrix, power)\n",
        "    except np.linalg.LinAlgError:\n",
        "        return \"Error: Matrix is not square or singular for power operation.\"\n",
        "    except ValueError as e:\n",
        "        return f\"Error: {e}\"\n",
        "\n",
        "\n",
        "# Example usage\n",
        "matrix11 = np.array([[1, 2], [3, 4]])\n",
        "power = 3\n",
        "result11 = matrix_power(matrix11, power)\n",
        "print(f\"\\nMatrix 11 raised to power {power}:\\n{result11}\")\n",
        "\n",
        "matrix12 = np.array([[1, 2, 3], [0, 1, 4], [5, 6, 0]])\n",
        "power = 2\n",
        "result12 = matrix_power(matrix12, power)\n",
        "print(f\"\\nMatrix 12 raised to power {power}:\\n{result12}\")\n",
        "\n",
        "# Example with a non-integer power\n",
        "power = 2.5\n",
        "result_invalid = matrix_power(matrix11, power)\n",
        "print(f\"\\nResult with non integer power:\\n{result_invalid}\") # Expecting error message\n",
        "\n",
        "# Example with a non-square matrix\n",
        "non_square_matrix = np.array([[1, 2], [3, 4], [5, 6]])\n",
        "power = 2\n",
        "result_non_square = matrix_power(non_square_matrix, power) # Expecting error message\n",
        "print(f\"\\nResult with non square matrix:\\n{result_non_square}\")\n"
      ],
      "metadata": {
        "colab": {
          "base_uri": "https://localhost:8080/"
        },
        "id": "zjW1U0945OrX",
        "outputId": "05f5db2c-ed12-4ee6-f70e-5018a216694c"
      },
      "execution_count": 32,
      "outputs": [
        {
          "output_type": "stream",
          "name": "stdout",
          "text": [
            "\n",
            "Matrix 11 raised to power 3:\n",
            "[[ 37  54]\n",
            " [ 81 118]]\n",
            "\n",
            "Matrix 12 raised to power 2:\n",
            "[[16 22 11]\n",
            " [20 25  4]\n",
            " [ 5 16 39]]\n",
            "\n",
            "Result with non integer power:\n",
            "Error: Power must be an integer.\n",
            "\n",
            "Result with non square matrix:\n",
            "Error: Matrix is not square or singular for power operation.\n"
          ]
        }
      ]
    },
    {
      "cell_type": "markdown",
      "source": [
        "Eigen values and eigen vectors"
      ],
      "metadata": {
        "id": "GLQpTqD62kn7"
      }
    },
    {
      "cell_type": "code",
      "source": [
        " #egien values and egien vectors of a matrices\n",
        "\n",
        "import numpy as np\n",
        "\n",
        "# Example matrix (you can change this)\n",
        "A = np.array([[2, 1],\n",
        "              [1, 2]])\n",
        "\n",
        "# Calculate eigenvalues and eigenvectors\n",
        "eigenvalues, eigenvectors = np.linalg.eig(A)\n",
        "\n",
        "print(\"Eigenvalues:\", eigenvalues)\n",
        "print(\"Eigenvectors:\\n\", eigenvectors)\n",
        "\n",
        "# Experiment with different matrices:\n",
        "\n",
        "# Example 1:  A diagonal matrix\n",
        "A1 = np.array([[3, 0],\n",
        "               [0, 1]])\n",
        "eigenvalues1, eigenvectors1 = np.linalg.eig(A1)\n",
        "\n",
        "print(\"\\nEigenvalues (A1):\", eigenvalues1)\n",
        "print(\"Eigenvectors (A1):\\n\", eigenvectors1)\n",
        "\n",
        "\n",
        "# Example 2:  A symmetric matrix\n",
        "A2 = np.array([[2, -1],\n",
        "              [-1, 2]])\n",
        "\n",
        "eigenvalues2, eigenvectors2 = np.linalg.eig(A2)\n",
        "\n",
        "print(\"\\nEigenvalues (A2):\", eigenvalues2)\n",
        "print(\"Eigenvectors (A2):\\n\", eigenvectors2)\n",
        "\n",
        "\n",
        "# Example 3: A 3x3 matrix\n",
        "A3 = np.array([[1, 2, 3],\n",
        "               [4, 5, 6],\n",
        "               [7, 8, 9]])\n",
        "\n",
        "eigenvalues3, eigenvectors3 = np.linalg.eig(A3)\n",
        "\n",
        "print(\"\\nEigenvalues (A3):\", eigenvalues3)\n",
        "print(\"Eigenvectors (A3):\\n\", eigenvectors3)\n"
      ],
      "metadata": {
        "colab": {
          "base_uri": "https://localhost:8080/"
        },
        "id": "a42DE1Gy17-U",
        "outputId": "9359d848-07e8-4711-e3a2-d19537369aab"
      },
      "execution_count": 24,
      "outputs": [
        {
          "output_type": "stream",
          "name": "stdout",
          "text": [
            "Eigenvalues: [3. 1.]\n",
            "Eigenvectors:\n",
            " [[ 0.70710678 -0.70710678]\n",
            " [ 0.70710678  0.70710678]]\n",
            "\n",
            "Eigenvalues (A1): [3. 1.]\n",
            "Eigenvectors (A1):\n",
            " [[1. 0.]\n",
            " [0. 1.]]\n",
            "\n",
            "Eigenvalues (A2): [3. 1.]\n",
            "Eigenvectors (A2):\n",
            " [[ 0.70710678  0.70710678]\n",
            " [-0.70710678  0.70710678]]\n",
            "\n",
            "Eigenvalues (A3): [ 1.61168440e+01 -1.11684397e+00 -1.30367773e-15]\n",
            "Eigenvectors (A3):\n",
            " [[-0.23197069 -0.78583024  0.40824829]\n",
            " [-0.52532209 -0.08675134 -0.81649658]\n",
            " [-0.8186735   0.61232756  0.40824829]]\n"
          ]
        }
      ]
    },
    {
      "cell_type": "markdown",
      "source": [
        "Trace of a matrix"
      ],
      "metadata": {
        "id": "h3I7EwIU2v5x"
      }
    },
    {
      "cell_type": "code",
      "source": [
        "# trace of a matrix\n",
        "\n",
        "import numpy as np\n",
        "\n",
        "def matrix_trace(matrix):\n",
        "    \"\"\"Calculates the trace of a square matrix.\n",
        "\n",
        "    Args:\n",
        "        matrix: A NumPy array representing a square matrix.\n",
        "\n",
        "    Returns:\n",
        "        The trace of the matrix, or an error message if the input is invalid.\n",
        "    \"\"\"\n",
        "    try:\n",
        "        if matrix.shape[0] != matrix.shape[1]:\n",
        "            return \"Error: Input matrix is not square.\"\n",
        "        return np.trace(matrix)\n",
        "    except AttributeError:\n",
        "        return \"Error: Input is not a NumPy array.\"\n",
        "    except Exception as e:\n",
        "        return f\"An unexpected error occurred: {e}\"\n",
        "\n",
        "\n",
        "# Example usage with different matrices\n",
        "matrix1 = np.array([[1, 2, 3], [4, 5, 6], [7, 8, 9]])\n",
        "print(\"Trace of matrix1:\", matrix_trace(matrix1))\n",
        "\n",
        "matrix2 = np.array([[1, 2], [3, 4]])\n",
        "print(\"Trace of matrix2:\", matrix_trace(matrix2))\n",
        "\n",
        "# Example with a non-square matrix\n",
        "matrix3 = np.array([[1, 2, 3], [4, 5, 6]])\n",
        "print(\"Trace of matrix3:\", matrix_trace(matrix3)) # Output: Error message\n",
        "\n",
        "# Example with an invalid input\n",
        "matrix4 = [[1, 2], [3, 4]]\n",
        "print(\"Trace of matrix4:\", matrix_trace(matrix4))  # Output: Error message\n",
        "\n",
        "# Example with a larger matrix\n",
        "matrix5 = np.random.rand(5,5) #Generate a random 5x5 matrix\n",
        "print(\"Trace of matrix5:\",matrix_trace(matrix5))\n"
      ],
      "metadata": {
        "colab": {
          "base_uri": "https://localhost:8080/"
        },
        "id": "aqjtrI_u20ge",
        "outputId": "9c9e97b6-493a-4fcf-a8e4-c5cd20ab6bd5"
      },
      "execution_count": 25,
      "outputs": [
        {
          "output_type": "stream",
          "name": "stdout",
          "text": [
            "Trace of matrix1: 15\n",
            "Trace of matrix2: 5\n",
            "Trace of matrix3: Error: Input matrix is not square.\n",
            "Trace of matrix4: Error: Input is not a NumPy array.\n",
            "Trace of matrix5: 1.8553768548525817\n"
          ]
        }
      ]
    },
    {
      "cell_type": "markdown",
      "source": [],
      "metadata": {
        "id": "EsVeQ6R99fId"
      }
    },
    {
      "cell_type": "markdown",
      "source": [
        "Matrices Norm"
      ],
      "metadata": {
        "id": "fXCVTGnX-tDY"
      }
    },
    {
      "cell_type": "code",
      "source": [
        "# matrices norm\n",
        "\n",
        "import numpy as np\n",
        "\n",
        "def matrix_norm(matrix, order=2):\n",
        "    \"\"\"\n",
        "    Calculates the matrix norm of a given matrix.\n",
        "\n",
        "    Args:\n",
        "        matrix: A NumPy array representing the matrix.\n",
        "        order: The order of the norm (default is 2 for Frobenius norm).\n",
        "               Can be 'inf' for the infinity norm or a positive integer.\n",
        "\n",
        "    Returns:\n",
        "        The matrix norm, or an error message if the input is invalid.\n",
        "    \"\"\"\n",
        "    try:\n",
        "        if order == 'inf':\n",
        "            return np.linalg.norm(matrix, ord=np.inf)  # Infinity norm\n",
        "        elif order == 2:\n",
        "            return np.linalg.norm(matrix) # Frobenius norm\n",
        "        elif isinstance(order, int) and order > 0:\n",
        "            return np.linalg.norm(matrix, ord=order)\n",
        "        else:\n",
        "            return \"Error: Invalid norm order.\"\n",
        "    except ValueError as e:\n",
        "        return f\"Error: {e}\"\n",
        "\n",
        "# Examples\n",
        "matrix = np.array([[1, 2], [3, 4]])\n",
        "\n",
        "# Frobenius norm (order=2 or default)\n",
        "frobenius_norm = matrix_norm(matrix)\n",
        "print(f\"Frobenius Norm: {frobenius_norm}\")\n",
        "\n",
        "\n",
        "# Infinity norm\n",
        "infinity_norm = matrix_norm(matrix, order='inf')\n",
        "print(f\"Infinity Norm: {infinity_norm}\")\n",
        "\n",
        "# Other norms\n",
        "norm_1 = matrix_norm(matrix, order=1)\n",
        "print(f\"1-Norm: {norm_1}\")\n"
      ],
      "metadata": {
        "colab": {
          "base_uri": "https://localhost:8080/"
        },
        "id": "dHEfrzPo-xlq",
        "outputId": "eaef43f8-985f-4a13-acb1-a7290d9d5919"
      },
      "execution_count": 34,
      "outputs": [
        {
          "output_type": "stream",
          "name": "stdout",
          "text": [
            "Frobenius Norm: 5.477225575051661\n",
            "Infinity Norm: 7.0\n",
            "1-Norm: 6.0\n"
          ]
        }
      ]
    },
    {
      "cell_type": "markdown",
      "source": [
        "Norm of Matrix"
      ],
      "metadata": {
        "id": "I2Zm9VK3_I3F"
      }
    },
    {
      "cell_type": "code",
      "source": [
        "# norm matrixes\n",
        "\n",
        "import numpy as np\n",
        "\n",
        "def matrix_norm(matrix, order=2):\n",
        "    \"\"\"Calculates the matrix norm.\"\"\"\n",
        "    try:\n",
        "        return np.linalg.norm(matrix, ord=order)\n",
        "    except ValueError as e:\n",
        "        return f\"Error: {e}\"\n"
      ],
      "metadata": {
        "id": "8DXHt7bx_QUK"
      },
      "execution_count": null,
      "outputs": []
    },
    {
      "cell_type": "markdown",
      "source": [
        "Solving System of Equations"
      ],
      "metadata": {
        "id": "FBc49qEX_2vi"
      }
    },
    {
      "cell_type": "code",
      "source": [
        "# solving the system of equations in matrices\n",
        "\n",
        "import numpy as np\n",
        "\n",
        "def solve_linear_system(A, b):\n",
        "    \"\"\"Solves a system of linear equations Ax = b.\n",
        "\n",
        "    Args:\n",
        "        A: A NumPy array representing the coefficient matrix.\n",
        "        b: A NumPy array representing the constant vector.\n",
        "\n",
        "    Returns:\n",
        "        A NumPy array representing the solution vector x, or an error message if the system cannot be solved.\n",
        "    \"\"\"\n",
        "    try:\n",
        "        x = np.linalg.solve(A, b)\n",
        "        return x\n",
        "    except np.linalg.LinAlgError:\n",
        "        return \"Error: Singular matrix or inconsistent system.\"\n",
        "    except ValueError:\n",
        "        return \"Error: Invalid input matrices.\"\n",
        "\n",
        "\n",
        "# Example usage\n",
        "A = np.array([[2, 1], [1, -1]])\n",
        "b = np.array([5, 0])\n",
        "\n",
        "solution = solve_linear_system(A, b)\n",
        "\n",
        "if isinstance(solution, str):\n",
        "  print(solution)\n",
        "else:\n",
        "  print(\"Solution:\", solution)\n",
        "\n",
        "\n",
        "# Another example\n",
        "A = np.array([[1, 2], [2,4]])\n",
        "b = np.array([3, 6])\n",
        "\n",
        "solution = solve_linear_system(A, b)\n",
        "\n",
        "if isinstance(solution, str):\n",
        "  print(solution)\n",
        "else:\n",
        "  print(\"Solution:\", solution)\n",
        "\n",
        "\n",
        "# Example with singular matrix\n",
        "A = np.array([[1, 2], [2, 4]])\n",
        "b = np.array([3, 5]) # Inconsistent system\n",
        "solution = solve_linear_system(A, b)\n",
        "\n",
        "if isinstance(solution, str):\n",
        "  print(solution)\n",
        "else:\n",
        "  print(\"Solution:\", solution)\n"
      ],
      "metadata": {
        "colab": {
          "base_uri": "https://localhost:8080/"
        },
        "id": "2VIY33rd_9eU",
        "outputId": "b9c53266-74b1-40d5-98b5-4d8c6ec75c62"
      },
      "execution_count": 35,
      "outputs": [
        {
          "output_type": "stream",
          "name": "stdout",
          "text": [
            "Solution: [1.66666667 1.66666667]\n",
            "Error: Singular matrix or inconsistent system.\n",
            "Error: Singular matrix or inconsistent system.\n"
          ]
        }
      ]
    },
    {
      "cell_type": "markdown",
      "source": [
        "Singular value decomposition"
      ],
      "metadata": {
        "id": "fN5cQBGOAVk7"
      }
    },
    {
      "cell_type": "code",
      "source": [
        "#singular value decomposition of a matrix\n",
        "\n",
        "import numpy as np\n",
        "\n",
        "def svd(matrix):\n",
        "    \"\"\"\n",
        "    Performs Singular Value Decomposition (SVD) on a matrix.\n",
        "\n",
        "    Args:\n",
        "        matrix: A NumPy array representing the matrix.\n",
        "\n",
        "    Returns:\n",
        "        A tuple containing U, S, and V, where:\n",
        "            U: The left singular vectors.\n",
        "            S: The singular values.\n",
        "            V: The right singular vectors.\n",
        "        Returns an error message if the input is invalid.\n",
        "    \"\"\"\n",
        "    try:\n",
        "        U, S, V = np.linalg.svd(matrix)\n",
        "        return U, S, V\n",
        "    except ValueError as e:\n",
        "        return f\"Error: {e}\"\n"
      ],
      "metadata": {
        "id": "_3hAqTiGAawa"
      },
      "execution_count": 42,
      "outputs": []
    },
    {
      "cell_type": "code",
      "source": [],
      "metadata": {
        "id": "G6z2KdyY2ieg"
      },
      "execution_count": null,
      "outputs": []
    }
  ]
}