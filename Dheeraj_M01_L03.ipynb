{
  "nbformat": 4,
  "nbformat_minor": 0,
  "metadata": {
    "colab": {
      "provenance": [],
      "authorship_tag": "ABX9TyM1SdbHJawBaQbrKM4r4bka",
      "include_colab_link": true
    },
    "kernelspec": {
      "name": "python3",
      "display_name": "Python 3"
    },
    "language_info": {
      "name": "python"
    }
  },
  "cells": [
    {
      "cell_type": "markdown",
      "metadata": {
        "id": "view-in-github",
        "colab_type": "text"
      },
      "source": [
        "<a href=\"https://colab.research.google.com/github/Dheeraj16-code/labs-and-projects/blob/main/Dheeraj_M01_L03.ipynb\" target=\"_parent\"><img src=\"https://colab.research.google.com/assets/colab-badge.svg\" alt=\"Open In Colab\"/></a>"
      ]
    },
    {
      "cell_type": "markdown",
      "source": [
        "Data Augmentation"
      ],
      "metadata": {
        "id": "I-ree6gyWWo_"
      }
    },
    {
      "cell_type": "markdown",
      "source": [
        "Module 1, Lab 3"
      ],
      "metadata": {
        "id": "RraeMn0EWYPd"
      }
    },
    {
      "cell_type": "markdown",
      "source": [
        "\n",
        "In this lab, we will see how augmentation of data samples help in improving the machine learning performance. Augmentation is the process of creating new data samples by making reasonable modifications to the original data samples. This is particularly useful when the size of the training data is small. We will use the MNISt dataset for this lab. We will also reuse functions from the previous labs."
      ],
      "metadata": {
        "id": "nZQG3bZxWi-d"
      }
    },
    {
      "source": [
        "import matplotlib.pyplot as plt\n",
        "import numpy as np # Import the numpy library\n",
        "rng = np.random.default_rng() # Create a default random number generator object\n",
        "img = rng.random((28, 28))\n",
        "rotation_angle = rng.uniform(low=-30, high=30)\n"
      ],
      "cell_type": "code",
      "metadata": {
        "id": "l6Txy60RXMSs"
      },
      "execution_count": 5,
      "outputs": []
    },
    {
      "source": [
        "import numpy as np\n",
        "# Import the mnist dataset from tensorflow.keras.datasets\n",
        "from tensorflow.keras.datasets import mnist\n",
        "\n",
        "(train_X, train_y), (test_X, test_y) = mnist.load_data()\n",
        "train_X = train_X / 255\n",
        "test_X = test_X / 255\n",
        "train_X = train_X[::600, :, :].copy() # Changed subsampling rate\n",
        "train_y = train_y[::600].copy()\n",
        "rng = np.random.default_rng(12345) # Added a seed for reproducibility\n",
        "img = rng.random((28, 28))\n",
        "rotation_angle = rng.uniform(low=-45, high=45) # Changed range of rotation"
      ],
      "cell_type": "code",
      "metadata": {
        "colab": {
          "base_uri": "https://localhost:8080/"
        },
        "id": "94tP-r3FXu6C",
        "outputId": "0f546cb1-52e3-4751-a946-e522b7d0c42f"
      },
      "execution_count": 10,
      "outputs": [
        {
          "output_type": "stream",
          "name": "stdout",
          "text": [
            "Downloading data from https://storage.googleapis.com/tensorflow/tf-keras-datasets/mnist.npz\n",
            "\u001b[1m11490434/11490434\u001b[0m \u001b[32m━━━━━━━━━━━━━━━━━━━━\u001b[0m\u001b[37m\u001b[0m \u001b[1m1s\u001b[0m 0us/step\n"
          ]
        }
      ]
    },
    {
      "cell_type": "markdown",
      "source": [
        "\n",
        "Let us borrow a few functions from the previous labs:"
      ],
      "metadata": {
        "id": "wN6_ETASX3wy"
      }
    },
    {
      "source": [
        "import matplotlib.pyplot as plt\n",
        "import numpy as np\n",
        "\n",
        "# Import the mnist dataset from tensorflow.keras.datasets\n",
        "from tensorflow.keras.datasets import mnist\n",
        "\n",
        "(train_X, train_y), (test_X, test_y) = mnist.load_data()\n",
        "train_X = train_X / 255\n",
        "test_X = test_X / 255\n",
        "train_X = train_X[::600, :, :].copy() # Changed subsampling rate\n",
        "train_y = train_y[::600].copy()\n",
        "rng = np.random.default_rng(12345) # Added a seed for reproducibility\n",
        "img = rng.random((28, 28))\n",
        "rotation_angle = rng.uniform(low=-45, high=45) # Changed range of rotation\n",
        "\n",
        "\n",
        "# The `accuracy` function seems to have been partially pasted or has incorrect indentation.\n",
        "# Assuming the intention was to define an accuracy function, a correct implementation is provided below.\n",
        "def accuracy(gtlabel, predlabel):\n",
        "    \"\"\"\n",
        "    This function calculates the accuracy of a classifier.\n",
        "    gtlabel: numpy array of shape (n,) where n is the number of samples (ground truth labels)\n",
        "    predlabel: numpy array of shape (n,) where n is the number of samples (predicted labels)\n",
        "    returns: the accuracy of the classifier which is the ratio of the number of correctly classified samples to the total number of samples\n",
        "    \"\"\"\n",
        "    assert len(gtlabel) == len(predlabel), \"Length of ground truth and predicted labels should be same\"\n",
        "    correct_samples = (gtlabel == predlabel).sum()\n",
        "    accuracy = correct_samples / len(gtlabel)\n",
        "    return accuracy\n",
        "\n",
        "def plot_MNIST(samples, pred_lab):\n",
        "    \"\"\"\n",
        "    This function plots the MNIST digits along with their predicted labels\n",
        "    samples: numpy array of shape (n, 28, 28) where n is the number of samples\n",
        "    pred_lab: numpy array of shape (n,) where n is the number of samples\n",
        "    \"\"\"\n",
        "    for i in range(samples.shape[0]):\n",
        "        plt.subplot(int(samples.shape[0]/10)+1, 10, i+1)\n",
        "        plt.imshow(samples[i,:,:], cmap='gray')\n",
        "        plt.title('%d' % pred_lab[i])\n",
        "        plt.axis('off')\n",
        "    plt.show()"
      ],
      "cell_type": "code",
      "metadata": {
        "id": "Q7Md8GDlYhMg"
      },
      "execution_count": 13,
      "outputs": []
    },
    {
      "cell_type": "markdown",
      "source": [
        "In this lab, we will use the image pixels themselves as features, instead of extracting features. Each image has 28*28 pixels, so we will flatten them to 784 pixels to use as features. Note that this is very compute intensive and will take a long time. Let us first check the baseline accuracy on the test set without any augmentations. We hope that adding augmentations will help us to get better results."
      ],
      "metadata": {
        "id": "Y-zvWfpiYrUX"
      }
    },
    {
      "source": [
        "import matplotlib.pyplot as plt\n",
        "import numpy as np\n",
        "\n",
        "# Import the mnist dataset from tensorflow.keras.datasets\n",
        "from tensorflow.keras.datasets import mnist\n",
        "\n",
        "(train_X, train_y), (test_X, test_y) = mnist.load_data()\n",
        "train_X = train_X / 255\n",
        "test_X = test_X / 255\n",
        "train_X = train_X[::600, :, :].copy() # Changed subsampling rate\n",
        "train_y = train_y[::600].copy()\n",
        "rng = np.random.default_rng(12345) # Added a seed for reproducibility\n",
        "img = rng.random((28, 28))\n",
        "rotation_angle = rng.uniform(low=-45, high=45) # Changed range of rotation\n",
        "\n",
        "\n",
        "# The `accuracy` function seems to have been partially pasted or has incorrect indentation.\n",
        "# Assuming the intention was to define an accuracy function, a correct implementation is provided below.\n",
        "def accuracy(gtlabel, predlabel):\n",
        "    \"\"\"\n",
        "    This function calculates the accuracy of a classifier.\n",
        "    gtlabel: numpy array of shape (n,) where n is the number of samples (ground truth labels)\n",
        "    predlabel: numpy array of shape (n,) where n is the number of samples (predicted labels)\n",
        "    returns: the accuracy of the classifier which is the ratio of the number of correctly classified samples to the total number of samples\n",
        "    \"\"\"\n",
        "    assert len(gtlabel) == len(predlabel), \"Length of ground truth and predicted labels should be same\"\n",
        "    correct_samples = (gtlabel == predlabel).sum()\n",
        "    accuracy = correct_samples / len(gtlabel)\n",
        "    return accuracy\n",
        "\n",
        "def plot_MNIST(samples, pred_lab):\n",
        "    \"\"\"\n",
        "    This function plots the MNIST digits along with their predicted labels\n",
        "    samples: numpy array of shape (n, 28, 28) where n is the number of samples\n",
        "    pred_lab: numpy array of shape (n,) where n is the number of samples\n",
        "    \"\"\"\n",
        "    for i in range(samples.shape[0]):\n",
        "        plt.subplot(int(samples.shape[0]/10)+1, 10, i+1)\n",
        "        plt.imshow(samples[i,:,:], cmap='gray')\n",
        "        plt.title('%d' % pred_lab[i])\n",
        "        plt.axis('off')\n",
        "    plt.show()\n",
        "\n",
        "# Define the Nearest Neighbors function\n",
        "def NN(train_features, train_labels, test_features, param1=0.1, param2='relu'):\n",
        "    \"\"\"\n",
        "    This function performs Nearest Neighbors classification.\n",
        "    It is a placeholder implementation based on the context and common usage in such labs.\n",
        "    You may need to replace this with the actual NN function from your previous labs.\n",
        "\n",
        "    Args:\n",
        "        train_features (np.ndarray): Training data features.\n",
        "        train_labels (np.ndarray): Training data labels.\n",
        "        test_features (np.ndarray): Test data features.\n",
        "        param1 (float): Placeholder for a parameter (e.g., regularization).\n",
        "        param2 (str): Placeholder for a parameter (e.g., activation function).\n",
        "\n",
        "    Returns:\n",
        "        np.ndarray: Predicted labels for the test data.\n",
        "    \"\"\"\n",
        "    # Flatten the images to 1D arrays (784 pixels)\n",
        "    train_features_flat = train_features.reshape(train_features.shape[0], -1)\n",
        "    test_features_flat = test_features.reshape(test_features.shape[0], -1)\n",
        "\n",
        "    # A simple Nearest Neighbor implementation (finding the closest training sample)\n",
        "    pred_labels = []\n",
        "    for test_sample in test_features_flat:\n",
        "        # Calculate Euclidean distances to all training samples\n",
        "        distances = np.sum((train_features_flat - test_sample)**2, axis=1)\n",
        "        # Find the index of the nearest neighbor\n",
        "        nearest_neighbor_index = np.argmin(distances)\n",
        "        # Predict the label of the nearest neighbor\n",
        "        pred_labels.append(train_labels[nearest_neighbor_index])\n",
        "\n",
        "    return np.array(pred_labels)\n",
        "\n",
        "testpred2 = NN(train_X, train_y, test_X, param1=0.1, param2='relu')\n",
        "print(\"Another baseline accuracy without augmentation:\",\n",
        "      accuracy(test_y, testpred2)*100, \"%\")"
      ],
      "cell_type": "code",
      "metadata": {
        "colab": {
          "base_uri": "https://localhost:8080/"
        },
        "id": "O97bZ5d0ZVkq",
        "outputId": "1e7d804e-8f7b-4980-e64f-6ae06396ada5"
      },
      "execution_count": 17,
      "outputs": [
        {
          "output_type": "stream",
          "name": "stdout",
          "text": [
            "Another baseline accuracy without augmentation: 68.89 %\n"
          ]
        }
      ]
    },
    {
      "cell_type": "markdown",
      "source": [
        "\n",
        "Let us try to improve this accuracy using augmentations. When we create augmentations, we have to make sure that the changes reflect what will naturally occur in the dataset. For example, we should not add colour to our samples as an augmentation because they do not naturally occur. We should not also flip the images in MNIST, because flipped images have different meanings for digits. So, we will use the following augmentations:"
      ],
      "metadata": {
        "id": "r4GDIc7ZZdkU"
      }
    },
    {
      "cell_type": "markdown",
      "source": [
        "Augmentation 1: Rotation"
      ],
      "metadata": {
        "id": "j-o4o_8oZfGk"
      }
    },
    {
      "cell_type": "markdown",
      "source": [
        "Let us try rotating the image a little. We will use the rotate function from the skimage module. We will rotate the image by 10 degrees and -10 degrees. Rotation is a reasonable augmentation because the digit will still be recognizable even after rotation and is representative of the dataset."
      ],
      "metadata": {
        "id": "4ycI495iZoL0"
      }
    },
    {
      "cell_type": "code",
      "source": [
        "import matplotlib.pyplot as plt\n",
        "fig, axs = plt.subplots(1, 3, figsize=(15, 5))\n",
        "axs[0].imshow(train_X[0], cmap=\"magma\")\n",
        "axs[0].set_title(\"Original Image\")\n",
        "axs[1].imshow(rotate(train_X[0], 20), cmap=\"viridis\")\n",
        "axs[1].set_title(\"Rotate +20 degrees\")\n",
        "axs[2].imshow(rotate(train_X[0], -20), cmap=\"plasma\")\n",
        "axs[2].set_title(\"Rotate -20 degrees\")\n",
        "plt.show()"
      ],
      "metadata": {
        "colab": {
          "base_uri": "https://localhost:8080/",
          "height": 248
        },
        "id": "uRauEVSlZioV",
        "outputId": "6eec1071-5b8d-485b-ec80-60e13a9f42db"
      },
      "execution_count": 24,
      "outputs": [
        {
          "output_type": "display_data",
          "data": {
            "text/plain": [
              "<Figure size 1500x500 with 3 Axes>"
            ],
            "image/png": "[encoded data removed]"
          },
          "metadata": {}
        }
      ]
    },
    {
      "cell_type": "markdown",
      "source": [
        "After rotating, the the class of the image is still the same. Let us make a function to rotate multiple images by random angles. We want a slightly different image every time we run this function. So, we generate a random number between 0 and 1 and change it so that it lies between -constraint/2 and +constraint/2"
      ],
      "metadata": {
        "id": "3QeN4JUEbYO7"
      }
    },
    {
      "cell_type": "code",
      "source": [
        "import numpy as np\n",
        "def augRotate(samples, angle_range):\n",
        "  \"\"\"\n",
        "  Rotates samples by a random angle within the specified range.\n",
        "  \"\"\"\n",
        "  angles = rng.uniform(low=-angle_range, high=angle_range, size=len(samples))\n",
        "  rotated_samples = []\n",
        "  for sample, angle in zip(samples, angles):\n",
        "    rotated_samples.append(rotate(sample, angle))\n",
        "  return np.array(rotated_samples)"
      ],
      "metadata": {
        "id": "bfNgQNNnbZLZ"
      },
      "execution_count": 25,
      "outputs": []
    },
    {
      "cell_type": "markdown",
      "source": [
        "This function returns a slightly different image each time we call it. So we can increase the number of images in the sample by any multiple."
      ],
      "metadata": {
        "id": "Mq49Arp1bzWB"
      }
    },
    {
      "source": [
        "import matplotlib.pyplot as plt\n",
        "\n",
        "# Define sample and angleconstraint by uncommenting the lines\n",
        "sample = train_X[20]\n",
        "angleconstraint = 70\n",
        "\n",
        "fig, axs = plt.subplots(1, 5, figsize=(15, 5))\n",
        "axs[0].imshow(sample, cmap=\"gray\")\n",
        "axs[0].set_title(\"Original\")\n",
        "axs[1].imshow(augRotate(sample.reshape(1,28,28), 90)[0], cmap=\"gray\")\n",
        "axs[1].set_title(\"Aug. Sample 1\")\n",
        "axs[2].imshow(augRotate(sample.reshape(1,28,28), 100)[0], cmap=\"gray\")\n",
        "axs[2].set_title(\"Aug. Sample 2\")\n",
        "axs[3].imshow(augRotate(sample.reshape(1,28,28), 110)[0], cmap=\"gray\")\n",
        "axs[3].set_title(\"Aug. Sample 3\")\n",
        "axs[4].imshow(augRotate(sample.reshape(1,28,28), 120)[0], cmap=\"gray\")\n",
        "axs[4].set_title(\"Aug. Sample 4\")\n",
        "plt.show()"
      ],
      "cell_type": "code",
      "metadata": {
        "colab": {
          "base_uri": "https://localhost:8080/",
          "height": 168
        },
        "id": "fciMvpVQcfx5",
        "outputId": "c751a139-bdd7-40ec-cf64-e9cbc10dddb9"
      },
      "execution_count": 30,
      "outputs": [
        {
          "output_type": "display_data",
          "data": {
            "text/plain": [
              "<Figure size 1500x500 with 5 Axes>"
            ],
            "image/png": "[encoded data removed]"
          },
          "metadata": {}
        }
      ]
    },
    {
      "cell_type": "markdown",
      "source": [
        "\n",
        "Let us augment the whole dataset and see if this improves the test accuracy"
      ],
      "metadata": {
        "id": "PnoX2ordcszd"
      }
    },
    {
      "cell_type": "code",
      "source": [
        "import numpy as np\n",
        "# hyperparameters\n",
        "angle_constraint = 45\n",
        "num_augmentations = 3\n",
        "# augment\n",
        "augmented_data = train_X\n",
        "augmented_labels = train_y\n",
        "for i in range(num_augmentations):\n",
        "    augmented_data = np.concatenate((augmented_data, augRotate(train_X, angle_constraint)))\n",
        "    augmented_labels = np.concatenate((augmented_labels, train_y))\n",
        "# check the test accuracy\n",
        "test_predictions = NN(augmented_data, augmented_labels, test_X)\n",
        "print(\"Accuracy after rotation augmentation:\", accuracy(test_y, test_predictions)*100, \"%\")"
      ],
      "metadata": {
        "colab": {
          "base_uri": "https://localhost:8080/"
        },
        "id": "ULFn8Al4cyIL",
        "outputId": "ed79b19f-cfdd-4c81-dba4-6bb8deee6635"
      },
      "execution_count": 31,
      "outputs": [
        {
          "output_type": "stream",
          "name": "stdout",
          "text": [
            "Accuracy after rotation augmentation: 71.67999999999999 %\n"
          ]
        }
      ]
    },
    {
      "cell_type": "markdown",
      "source": [
        "We can notice a 3-4% improvement compared to non-augmented version of the dataset"
      ],
      "metadata": {
        "id": "RTNMHOnIdetR"
      }
    },
    {
      "cell_type": "markdown",
      "source": [
        "\n",
        "The angle constraint is a hyperparameter which we have to tune using a validation set. (Here we are not doing that for time constraints). Let us try a grid search to find the best angle constraint. We will try angles between 0 and 90 degrees. We can also try different multiples of the original dataset. We will use the best hyperparameters to train the model and check the accuracy on the test set."
      ],
      "metadata": {
        "id": "xOxYaEZydfrH"
      }
    },
    {
      "cell_type": "code",
      "source": [
        "import numpy as np\n",
        "new_angle_constraints = [0, 15, 30, 45, 60, 75, 90, 105, 120, 135]\n",
        "new_accuracies = np.zeros(len(new_angle_constraints), dtype=float)\n",
        "n_new_augmentations = 2\n",
        "for i in range(len(new_angle_constraints)):\n",
        "  aug_data = train_X\n",
        "  aug_label = train_y\n",
        "  for j in range(n_new_augmentations):\n",
        "    aug_data = np.concatenate((aug_data, augRotate(train_X, new_angle_constraints[i])))\n",
        "    aug_label = np.concatenate((aug_label, train_y))\n",
        "  test_pred_new = NN(aug_data, aug_label, test_X)\n",
        "  new_accuracies[i] = accuracy(test_y, test_pred_new)\n",
        "  print(f\"Accuracy with constraint {new_angle_constraints[i]}: {new_accuracies[i]*100:.2f}%\")"
      ],
      "metadata": {
        "colab": {
          "base_uri": "https://localhost:8080/"
        },
        "id": "Li6DPMB-dk4r",
        "outputId": "148a32dd-c68d-4733-ef24-5272c09da14e"
      },
      "execution_count": 32,
      "outputs": [
        {
          "output_type": "stream",
          "name": "stdout",
          "text": [
            "Accuracy with constraint 0: 68.89%\n",
            "Accuracy with constraint 15: 72.19%\n",
            "Accuracy with constraint 30: 72.97%\n",
            "Accuracy with constraint 45: 69.23%\n",
            "Accuracy with constraint 60: 67.40%\n",
            "Accuracy with constraint 75: 67.73%\n",
            "Accuracy with constraint 90: 67.46%\n",
            "Accuracy with constraint 105: 65.80%\n",
            "Accuracy with constraint 120: 64.69%\n",
            "Accuracy with constraint 135: 63.83%\n"
          ]
        }
      ]
    },
    {
      "cell_type": "markdown",
      "source": [
        "\n",
        "Let us see the best value for angle constraint: (Ideally this should be done on validation set, not test set)"
      ],
      "metadata": {
        "id": "3VZC7PUmeJjn"
      }
    },
    {
      "cell_type": "code",
      "source": [
        "import matplotlib.pyplot as plt\n",
        "import numpy as np\n",
        "fig = plt.figure()\n",
        "ax = fig.add_axes([0.1, 0.1, 0.8, 0.8])\n",
        "ax.plot(new_angle_constraints, new_accuracies, label='Accuracy')\n",
        "ax.set_xlabel(\"Rotation Angle Constraint (degrees)\")\n",
        "ax.set_ylabel(\"Accuracy\")\n",
        "max_index = np.argmax(new_accuracies)\n",
        "ax.scatter(new_angle_constraints[max_index], new_accuracies[max_index], color='red', label='Max Accuracy')\n",
        "ax.legend()\n",
        "plt.show()"
      ],
      "metadata": {
        "colab": {
          "base_uri": "https://localhost:8080/",
          "height": 464
        },
        "id": "8w2BCSsGeKno",
        "outputId": "f0729064-bc07-40b6-cb49-237edf5b4be6"
      },
      "execution_count": 33,
      "outputs": [
        {
          "output_type": "display_data",
          "data": {
            "text/plain": [
              "<Figure size 640x480 with 1 Axes>"
            ],
            "image/png": "[encoded data removed]"
          },
          "metadata": {}
        }
      ]
    },
    {
      "cell_type": "markdown",
      "source": [
        "Augmentation 2: Shear"
      ],
      "metadata": {
        "id": "uhNKmPBTevKn"
      }
    },
    {
      "cell_type": "markdown",
      "source": [
        "\n",
        "Let us try one more augmentation: shear. Shear is the transformation of an image in which the x-coordinate of all points is shifted by an amount proportional to the y-coordinate of the point. We will use the AffineTransform function from the skimage module to shear the image by a small amount between two numbers. We will use the same naive grid search method to find the best hyperparameters for shear. We will use the best hyperparameters to train the model and check the accuracy on the test set."
      ],
      "metadata": {
        "id": "9WXjnmYSev61"
      }
    },
    {
      "source": [
        "from skimage.transform import AffineTransform, warp\n",
        "import numpy as np\n",
        "\n",
        "# Define the shear function\n",
        "def shear(sample, amount):\n",
        "    \"\"\"\n",
        "    This function takes in a sample and an amount and returns the augmented sample\n",
        "    by shearing the sample by the given amount\n",
        "    sample: numpy array of shape (n,d) where n is the number of samples and d is the number of features\n",
        "    amount: the amount by which the sample should be sheared\n",
        "    returns: the augmented sample which is the input sample sheared by the given amount\n",
        "    \"\"\"\n",
        "    tform = AffineTransform(shear=amount)\n",
        "    img = warp(sample, tform)\n",
        "    # Applying shear makes the digit off-center\n",
        "    # Since all images are centralized, we will do the same here\n",
        "    col = img.sum(0).nonzero()[0]\n",
        "    row = img.sum(1).nonzero()[0]\n",
        "    if len(col) > 0 and len(row) > 0:\n",
        "        xshift = int(sample.shape[0] / 2 - (row[0] + row[-1]) / 2)\n",
        "        yshift = int(sample.shape[1] / 2 - (col[0] + col[-1]) / 2)\n",
        "        # Corrected the typo from 'yhift' to 'yshift'\n",
        "        img = np.roll(img, (xshift, yshift), (0, 1))\n",
        "    return img\n",
        "\n",
        "augmented_img = shear(train_X[0], amount=0.2)\n",
        "augmented_img2 = shear(train_X[0], amount=-0.2)\n",
        "augmented_img3 = shear(train_X[1], amount=0.1)\n",
        "augmented_img4 = shear(train_X[1], amount=-0.1)"
      ],
      "cell_type": "code",
      "metadata": {
        "id": "e9yMBpPRfZKk"
      },
      "execution_count": 36,
      "outputs": []
    },
    {
      "cell_type": "code",
      "source": [
        "import matplotlib.pyplot as plt\n",
        "sample = train_X[3]\n",
        "fig, axs = plt.subplots(1, 5, figsize=(15, 5))\n",
        "axs[0].imshow(sample, cmap=\"gray\")\n",
        "axs[0].set_title(\"Original Image\")\n",
        "axs[1].imshow(shear(sample, -0.1), cmap=\"gray\")\n",
        "axs[1].set_title(\"Amount = -0.1\")\n",
        "axs[2].imshow(shear(sample, 0.15), cmap=\"gray\")\n",
        "axs[2].set_title(\"Amount = 0.15\")\n",
        "axs[3].imshow(shear(sample, -0.3), cmap=\"gray\")\n",
        "axs[3].set_title(\"Amount = -0.3\")\n",
        "axs[4].imshow(shear(sample, 0.5), cmap=\"gray\")\n",
        "axs[4].set_title(\"Amount = 0.5\")\n",
        "plt.show()"
      ],
      "metadata": {
        "colab": {
          "base_uri": "https://localhost:8080/",
          "height": 168
        },
        "id": "CXV2v_b0femz",
        "outputId": "1738542b-f96b-49ce-85b9-4568369eb158"
      },
      "execution_count": 37,
      "outputs": [
        {
          "output_type": "display_data",
          "data": {
            "text/plain": [
              "<Figure size 1500x500 with 5 Axes>"
            ],
            "image/png": "[encoded data removed]"
          },
          "metadata": {}
        }
      ]
    },
    {
      "cell_type": "markdown",
      "source": [
        "Create an augmentation function which applies a random shear according to the constraint we provide:"
      ],
      "metadata": {
        "id": "V6ORjM5qfzVb"
      }
    },
    {
      "cell_type": "code",
      "source": [
        "import numpy as np\n",
        "def augShear(samples, shearconstraint):\n",
        "  \"\"\"\n",
        "  Shears samples by a random amount within the specified constraint.\n",
        "  \"\"\"\n",
        "  amounts = rng.uniform(low=-shearconstraint/2, high=shearconstraint/2, size=len(samples))\n",
        "  sheared_samples = []\n",
        "  for sample, amount in zip(samples, amounts):\n",
        "    sheared_samples.append(shear(sample, amount))\n",
        "  return np.array(sheared_samples)"
      ],
      "metadata": {
        "id": "jLdcMc4Ef1uZ"
      },
      "execution_count": 39,
      "outputs": []
    },
    {
      "cell_type": "markdown",
      "source": [
        "Let us do a grid search to find the best shear constraint."
      ],
      "metadata": {
        "id": "96kpvTSNgxZ5"
      }
    },
    {
      "source": [
        "import numpy as np\n",
        "from skimage.transform import AffineTransform, warp\n",
        "\n",
        "# Define the translate function\n",
        "def translate(sample, shift):\n",
        "    \"\"\"\n",
        "    This function takes in a sample and a shift and returns the augmented sample\n",
        "    by translating the sample by the given shift.\n",
        "    sample: numpy array of shape (n,d) where n is the number of samples and d is the number of features\n",
        "    shift: a tuple (x_shift, y_shift) representing the translation amount\n",
        "    returns: the augmented sample which is the input sample translated by the given shift\n",
        "    \"\"\"\n",
        "    tform = AffineTransform(translation=shift)\n",
        "    img = warp(sample, tform)\n",
        "    return img\n",
        "\n",
        "# Define the augmentation function for translation\n",
        "def augTranslate(samples, translation_constraint):\n",
        "  \"\"\"\n",
        "  Translates samples by a random amount within the specified constraint.\n",
        "  \"\"\"\n",
        "  translated_samples = []\n",
        "  for sample in samples:\n",
        "    # Generate random shifts within the constraint\n",
        "    x_shift = rng.uniform(low=-translation_constraint/2, high=translation_constraint/2)\n",
        "    y_shift = rng.uniform(low=-translation_constraint/2, high=translation_constraint/2)\n",
        "    translated_samples.append(translate(sample, (x_shift, y_shift)))\n",
        "  return np.array(translated_samples)\n",
        "\n",
        "\n",
        "translation_constraints = [0, 2, 4, 6, 8, 10, 12]\n",
        "translation_accuracies = np.zeros(len(translation_constraints), dtype=float)\n",
        "num_augmentations = 2\n",
        "for i in range(len(translation_constraints)):\n",
        "  aug_data = train_X\n",
        "  aug_label = train_y\n",
        "  for j in range(num_augmentations):\n",
        "    aug_data = np.concatenate((aug_data, augTranslate(train_X, translation_constraints[i])))\n",
        "    aug_label = np.concatenate((aug_label, train_y))\n",
        "  test_pred = NN(aug_data, aug_label, test_X)\n",
        "  translation_accuracies[i] = accuracy(test_y, test_pred)\n",
        "  print(f\"Accuracy with constraint {translation_constraints[i]}: {translation_accuracies[i]*100:.2f}%\")"
      ],
      "cell_type": "code",
      "metadata": {
        "colab": {
          "base_uri": "https://localhost:8080/"
        },
        "id": "-la6dgTVhNmp",
        "outputId": "5113253e-f832-4350-f229-3efa8a65fdc1"
      },
      "execution_count": 43,
      "outputs": [
        {
          "output_type": "stream",
          "name": "stdout",
          "text": [
            "Accuracy with constraint 0: 68.89%\n",
            "Accuracy with constraint 2: 69.80%\n",
            "Accuracy with constraint 4: 69.97%\n",
            "Accuracy with constraint 6: 66.44%\n",
            "Accuracy with constraint 8: 66.02%\n",
            "Accuracy with constraint 10: 64.97%\n",
            "Accuracy with constraint 12: 67.29%\n"
          ]
        }
      ]
    },
    {
      "cell_type": "code",
      "source": [
        "import matplotlib.pyplot as plt\n",
        "import numpy as np\n",
        "translation_constraints = [0, 2, 4, 6, 8, 10, 12, 14, 16]\n",
        "translation_accuracies = np.zeros(len(translation_constraints), dtype=float)\n",
        "for i in range(len(translation_constraints)):\n",
        "  aug_data = train_X\n",
        "  aug_label = train_y\n",
        "  for j in range(2):\n",
        "    aug_data = np.concatenate((aug_data, augTranslate(train_X, translation_constraints[i])))\n",
        "    aug_label = np.concatenate((aug_label, train_y))\n",
        "  test_pred = NN(aug_data, aug_label, test_X)\n",
        "  translation_accuracies[i] = accuracy(test_y, test_pred)\n",
        "fig, ax = plt.subplots(figsize=(8, 6))\n",
        "ax.plot(translation_constraints, translation_accuracies, marker='o')\n",
        "ax.set_xlabel(\"Translation Constraint\")\n",
        "ax.set_ylabel(\"Accuracy\")\n",
        "plt.show()\n"
      ],
      "metadata": {
        "colab": {
          "base_uri": "https://localhost:8080/",
          "height": 531
        },
        "id": "Iyi0PuYOhcCN",
        "outputId": "c500827f-9208-4bfe-8caa-3ecc790dbc7b"
      },
      "execution_count": 44,
      "outputs": [
        {
          "output_type": "display_data",
          "data": {
            "text/plain": [
              "<Figure size 800x600 with 1 Axes>"
            ],
            "image/png": "[encoded data removed]"
          },
          "metadata": {}
        }
      ]
    },
    {
      "cell_type": "markdown",
      "source": [
        "Augmentation 3: Rotation + Shear"
      ],
      "metadata": {
        "id": "qo9MVu6Eh1Bk"
      }
    },
    {
      "cell_type": "markdown",
      "source": [
        "We can do multiple augmentations at the same time. Here is a function to do both shear and rotation to the sample. In this case, we will have two hyperparameters."
      ],
      "metadata": {
        "id": "PkhZ_xY-h2A7"
      }
    },
    {
      "cell_type": "code",
      "source": [
        "import numpy as np\n",
        "def augRotateShear(sample, rot_constraint, shear_constraint):\n",
        "  \"\"\"\n",
        "  Rotates and shears samples by random amounts within specified constraints.\n",
        "  \"\"\"\n",
        "  if len(sample.shape) == 2:\n",
        "    sample = np.expand_dims(sample, 0)\n",
        "  amounts = rng.uniform(low=-shear_constraint / 2, high=shear_constraint / 2, size=len(sample))\n",
        "  angles = rng.uniform(low=-rot_constraint / 2, high=rot_constraint / 2, size=len(sample))\n",
        "  augmented_samples = []\n",
        "  for s, amount, angle in zip(sample, amounts, angles):\n",
        "    augmented_samples.append(rotate(shear(s, amount), angle))\n",
        "  return np.squeeze(np.array(augmented_samples))"
      ],
      "metadata": {
        "id": "5JHa3VAPh5zk"
      },
      "execution_count": 46,
      "outputs": []
    },
    {
      "cell_type": "markdown",
      "source": [
        "Since we have two hyperparameters, we have to do the grid search on a 2 dimensional matrix. We can use our previous experience to inform where to search for the best hyperparameters."
      ],
      "metadata": {
        "id": "wRs-1Uc_ihAl"
      }
    },
    {
      "source": [
        "import numpy as np\n",
        "import itertools # Import the itertools module\n",
        "\n",
        "# Using different parameters for shear and angle constraints\n",
        "shear_constraints_new = [0.1, 0.3, 0.5]\n",
        "angle_constraints_new = [5, 15, 25]\n",
        "\n",
        "# cartesian product of both using itertools.product\n",
        "hyp_new = list(itertools.product(shear_constraints_new, angle_constraints_new)) # Use itertools.product and convert to list\n",
        "accuracies_new = np.zeros(len(hyp_new), dtype=float)\n",
        "naugmentations_new = 2 # Reduced number of augmentations\n",
        "\n",
        "for ii in range(len(hyp_new)):\n",
        "    # Access shear and angle constraints from the tuple in hyp_new\n",
        "    shear_constraint, angle_constraint = hyp_new[ii]\n",
        "    augdata_new = train_X\n",
        "    auglabel_new = train_y\n",
        "    for jj in range(naugmentations_new):\n",
        "        # Pass the individual shear and angle constraints to augRotateShear\n",
        "        augdata_new = np.concatenate((augdata_new, augRotateShear(train_X, angle_constraint, shear_constraint)))\n",
        "        auglabel_new = np.concatenate((auglabel_new, train_y))\n",
        "    testpred_new = NN(augdata_new, auglabel_new, test_X)\n",
        "    accuracies_new[ii] = accuracy(test_y, testpred_new)\n",
        "    print(f\"Accuracy after augmentation shear: {shear_constraint}, angle: {angle_constraint} is {accuracies_new[ii]*100:.2f} %\", flush=True)"
      ],
      "cell_type": "code",
      "metadata": {
        "colab": {
          "base_uri": "https://localhost:8080/"
        },
        "id": "KWvEFv4hjDkB",
        "outputId": "42ccc8b0-ff4f-4d51-b337-55fbe6e3bcee"
      },
      "execution_count": 49,
      "outputs": [
        {
          "output_type": "stream",
          "name": "stdout",
          "text": [
            "Accuracy after augmentation shear: 0.1, angle: 5 is 68.07 %\n",
            "Accuracy after augmentation shear: 0.1, angle: 15 is 68.60 %\n",
            "Accuracy after augmentation shear: 0.1, angle: 25 is 69.08 %\n",
            "Accuracy after augmentation shear: 0.3, angle: 5 is 67.80 %\n",
            "Accuracy after augmentation shear: 0.3, angle: 15 is 67.91 %\n",
            "Accuracy after augmentation shear: 0.3, angle: 25 is 69.59 %\n",
            "Accuracy after augmentation shear: 0.5, angle: 5 is 68.03 %\n",
            "Accuracy after augmentation shear: 0.5, angle: 15 is 69.60 %\n",
            "Accuracy after augmentation shear: 0.5, angle: 25 is 69.49 %\n"
          ]
        }
      ]
    },
    {
      "cell_type": "markdown",
      "source": [
        "\n",
        "Let us plot it two dimensionally to see which is the best value for the hyperparameters:"
      ],
      "metadata": {
        "id": "gaXq6zkHjPlh"
      }
    },
    {
      "cell_type": "code",
      "source": [
        "# prompt: fig = plt.figure()\n",
        "# ax = fig.add_axes([0.1, 0.1, 0.8, 0.8])\n",
        "# im = ax.imshow(\n",
        "#     accuracies.reshape((len(shearconstraints), len(angleconstraints))), cmap=\"hot\"\n",
        "# )\n",
        "# ax.set_xlabel(\"Angle\")\n",
        "# ax.set_ylabel(\"Shear\")\n",
        "# ax.set_xticks(np.arange(len(angleconstraints)))\n",
        "# ax.set_xticklabels(angleconstraints)\n",
        "# ax.set_yticks(np.arange(len(shearconstraints)))\n",
        "# ax.set_yticklabels(shearconstraints)\n",
        "# plt.colorbar(im) canan you generate newly without anyone license can you generate in 6  lines output should be graph with colors can you generate by newly without any one license\n",
        "\n",
        "import matplotlib.pyplot as plt\n",
        "import numpy as np\n",
        "plt.imshow(accuracies.reshape((len(shearconstraints), len(angleconstraints))), cmap=\"hot\")\n",
        "plt.xlabel(\"Angle\")\n",
        "plt.ylabel(\"Shear\")\n",
        "plt.xticks(np.arange(len(angleconstraints)), angleconstraints)\n",
        "plt.yticks(np.arange(len(shearconstraints)), shearconstraints)\n",
        "plt.colorbar()\n",
        "plt.show()\n"
      ],
      "metadata": {
        "colab": {
          "base_uri": "https://localhost:8080/",
          "height": 449
        },
        "id": "DWcxbkfDjPTg",
        "outputId": "4a931901-f2a0-4ed8-d0e6-ffd149600b0b"
      },
      "execution_count": 51,
      "outputs": [
        {
          "output_type": "display_data",
          "data": {
            "text/plain": [
              "<Figure size 640x480 with 2 Axes>"
            ],
            "image/png": "[encoded data removed]"
          },
          "metadata": {}
        }
      ]
    },
    {
      "cell_type": "markdown",
      "source": [
        "Questions\n",
        "Try these questions for better understanding. You may not be able to solve all of them.\n",
        "\n",
        "What is the best value for angle constraint and shear constraint you got? How much did the accuracy improve as compared to not using augmentations?\n",
        "Can you increase the accuracy by increasing the number of augmentations from each sample?\n",
        "Try implementing a few augmentations of your own and experimenting with them. A good reference is here.\n",
        "Try combining various augmentations. What is the highest accuracy you can get? What is the smallest training dataset you can take and still get accuracy above 50%?\n",
        "Whenever you do any experiment, a good practice is to vary the hyperparameters gradually and create a graph of your results, like we did for gridsearch\n",
        " Try to take 50 images of each digit and calculate the performance on test set.\n",
        "\n"
      ],
      "metadata": {
        "id": "fKUz1EkUkLPo"
      }
    },
    {
      "source": [
        "import numpy as np\n",
        "\n",
        "# Find the indices for each digit in the training data\n",
        "digit_indices = {}\n",
        "for digit in range(10):\n",
        "    digit_indices[digit] = np.where(train_y == digit)[0]\n",
        "\n",
        "# Select 50 indices for each digit, or fewer if not enough samples exist for a digit\n",
        "selected_indices = []\n",
        "samples_per_digit = 50\n",
        "for digit in range(10):\n",
        "    # Check if the number of available samples for the digit is less than samples_per_digit\n",
        "    num_available = len(digit_indices[digit])\n",
        "    num_to_select = min(num_available, samples_per_digit) # Select at most the number of available samples\n",
        "    if num_to_select > 0: # Only sample if there are samples available\n",
        "        selected_indices.extend(np.random.choice(digit_indices[digit], num_to_select, replace=False))\n",
        "    else:\n",
        "        print(f\"Warning: No samples found for digit {digit} in the subsampled training data.\")\n",
        "\n",
        "# Shuffle the selected indices\n",
        "np.random.shuffle(selected_indices)\n",
        "\n",
        "# Create the balanced training subset\n",
        "train_X_balanced = train_X[selected_indices]\n",
        "train_y_balanced = train_y[selected_indices]\n",
        "\n",
        "print(f\"\\nCreated a balanced training set with {len(train_X_balanced)} images (attempted {samples_per_digit} per digit).\")"
      ],
      "cell_type": "code",
      "metadata": {
        "colab": {
          "base_uri": "https://localhost:8080/"
        },
        "id": "HL5ZlE1JlFGA",
        "outputId": "f19daa0d-303e-49e1-b6ba-8367b73e39bd"
      },
      "execution_count": 58,
      "outputs": [
        {
          "output_type": "stream",
          "name": "stdout",
          "text": [
            "\n",
            "Created a balanced training set with 100 images (attempted 50 per digit).\n"
          ]
        }
      ]
    },
    {
      "cell_type": "code",
      "source": [
        "# Calculate performance on the test set using the balanced training set\n",
        "test_predictions_balanced = NN(train_X_balanced, train_y_balanced, test_X)\n",
        "accuracy_balanced = accuracy(test_y, test_predictions_balanced)\n",
        "print(f\"Accuracy with {samples_per_digit} samples per digit: {accuracy_balanced*100:.2f}%\")"
      ],
      "metadata": {
        "colab": {
          "base_uri": "https://localhost:8080/"
        },
        "id": "CdqI1onTlSlD",
        "outputId": "def8506a-ffec-4ad3-d301-0206bce03e38"
      },
      "execution_count": 60,
      "outputs": [
        {
          "output_type": "stream",
          "name": "stdout",
          "text": [
            "Accuracy with 50 samples per digit: 68.89%\n"
          ]
        }
      ]
    }
  ]
}