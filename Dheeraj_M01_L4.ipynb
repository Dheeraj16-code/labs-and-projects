{
  "nbformat": 4,
  "nbformat_minor": 0,
  "metadata": {
    "colab": {
      "provenance": [],
      "authorship_tag": "ABX9TyMK6rtgfxRtH/lruvq6iCB1",
      "include_colab_link": true
    },
    "kernelspec": {
      "name": "python3",
      "display_name": "Python 3"
    },
    "language_info": {
      "name": "python"
    }
  },
  "cells": [
    {
      "cell_type": "markdown",
      "metadata": {
        "id": "view-in-github",
        "colab_type": "text"
      },
      "source": [
        "<a href=\"https://colab.research.google.com/github/Dheeraj16-code/labs-and-projects/blob/main/Dheeraj_M01_L4.ipynb\" target=\"_parent\"><img src=\"https://colab.research.google.com/assets/colab-badge.svg\" alt=\"Open In Colab\"/></a>"
      ]
    },
    {
      "cell_type": "markdown",
      "source": [
        "**Transforming data using linear algebra**"
      ],
      "metadata": {
        "id": "NexUJEWtxotx"
      }
    },
    {
      "cell_type": "markdown",
      "source": [
        "Module 1, Lab 4"
      ],
      "metadata": {
        "id": "Hihq5VKSxvNT"
      }
    },
    {
      "cell_type": "markdown",
      "source": [
        "Matrix transformations are at the heart of many machine learning algorithms. In this lab, we'll visualize the effect of some simple transformations on a unit square and then visualize it using the MNIST dataset. We also see what data normalization means and how it can help in improving the accuracy of machine learning models."
      ],
      "metadata": {
        "id": "IzuKQC4hxzrb"
      }
    },
    {
      "cell_type": "code",
      "source": [
        "import numpy as np\n",
        "import matplotlib.pyplot as plt\n",
        "from keras.datasets import mnist"
      ],
      "metadata": {
        "id": "s6a9YwhPx4GF"
      },
      "execution_count": 1,
      "outputs": []
    },
    {
      "source": [
        "\n",
        "def plotData(X, y, xlabel=\"hole\", ylabel=\"bound\", fig=None, ax=None):\n",
        "    if fig is None:\n",
        "        fig, ax = plt.subplots()\n",
        "    for ii in range(nclasses):\n",
        "        plt.scatter(X[y == ii, 0], X[y == ii, 1])\n",
        "    plt.legend([str(i) for i in range(nclasses)])\n",
        "    plt.xlabel(xlabel)\n",
        "    plt.ylabel(ylabel)\n",
        "    lim2 = X.max()\n",
        "    lim1 = X.min()\n",
        "    lim = np.max([-lim1, lim2])\n",
        "    ax.set_xlim([-lim, lim])\n",
        "    ax.set_ylim([-lim, lim])\n",
        "    return fig, ax\n",
        "\n"
      ],
      "cell_type": "code",
      "metadata": {
        "id": "kEvdPCBTy28C"
      },
      "execution_count": 4,
      "outputs": []
    },
    {
      "cell_type": "markdown",
      "source": [
        "Matrix transformations on data"
      ],
      "metadata": {
        "id": "qv06UhR_zePY"
      }
    },
    {
      "cell_type": "markdown",
      "source": [
        "Note: This lab involves a lot of matrix operations. If you are not familiar with them, please go through the resources given in class before proceeding. You can also review Khan Academy's excellent linear algebra resources.\n",
        "\n",
        "A 2D coordinate system is defined by its basis vectors, i and j. Any point in this 2D space can be represented as a linear combination of these basis vectors. For example, the point (a,b) can be represented as:\n",
        "\n",
        "        **{ab}=a{10}+b{01}=ai^+bj^**\n",
        "\n",
        "A matrix can be used to perform a linear transformation on the basis vectors. The new basis vectors  i^  and  j^  are given by the product of the matrix and the basis vectors of the standard coordinate system.\n",
        "\n",
        "In the standard coordinate system (Let us call it T0), the basis vectors are\n",
        "\n",
        "           ** i={10}**\n",
        "            **and**\n",
        "          ** j={01} **\n",
        "\n",
        "We can use any two vectors as basis vectors for a new coordinate system as long as they are not colinear. For example, let us call this new coordinate system T1:\n",
        "\n",
        "         ** i={1−1}**\n",
        "         **and**\n",
        "        ** j={02} **\n",
        "\n",
        "Suppose we have a point [a,b] in the T1 coordinate system. Its representation in the standard system T0 can be obtained by the following matrix multiplication:\n",
        "\n",
        "        **{a′b′}={−1102}{ab}**\n",
        "where the columns of the matrix are the basis vectors of T1.\n",
        "\n",
        "Let us see this in action"
      ],
      "metadata": {
        "id": "aoOjSGYWzlF6"
      }
    },
    {
      "cell_type": "code",
      "source": [
        "import numpy as np\n",
        "T2 = np.array([[2, 1], [1, 3]])\n",
        "data2 = np.array([7, 8])\n",
        "data0_new = np.matmul(T2, data2)\n",
        "print(\"Newly generated data in T0 = \", data0_new)\n",
        "print(\"Newly generated data in T2 = \", data2)"
      ],
      "metadata": {
        "colab": {
          "base_uri": "https://localhost:8080/"
        },
        "id": "u0mD29Ge1Nfm",
        "outputId": "8664b523-89c2-485e-a091-90b0c88cd212"
      },
      "execution_count": 5,
      "outputs": [
        {
          "output_type": "stream",
          "name": "stdout",
          "text": [
            "Newly generated data in T0 =  [22 31]\n",
            "Newly generated data in T2 =  [7 8]\n"
          ]
        }
      ]
    },
    {
      "cell_type": "markdown",
      "source": [
        "We can visualize this below. T0 is shown with dotted lines and T1 is shown with solid lines."
      ],
      "metadata": {
        "id": "LwtD5D5d1kja"
      }
    },
    {
      "cell_type": "code",
      "source": [
        "import matplotlib.pyplot as plt\n",
        "import numpy as np\n",
        "fig, ax = plotGrid(T2.T, 1, \"-\")\n",
        "plotGrid(np.array([[1, 0], [0, 1]]).T, 1, fig=fig, ax=ax, linestyle='--')\n",
        "plt.scatter(data0_new[0], data0_new[1])\n",
        "ax.set_xlim(-10, 10)\n",
        "ax.set_ylim(-10, 10)\n",
        "plt.show()"
      ],
      "metadata": {
        "colab": {
          "base_uri": "https://localhost:8080/",
          "height": 435
        },
        "id": "mU8ujRhj3HBn",
        "outputId": "83a845d0-6c3d-484b-caab-cf16aa0a07bd"
      },
      "execution_count": 18,
      "outputs": [
        {
          "output_type": "display_data",
          "data": {
            "text/plain": [
              "<Figure size 640x480 with 1 Axes>"
            ],
            "image/png": "[encoded data removed]"
          },
          "metadata": {}
        }
      ]
    },
    {
      "source": [
        "fig, ax = plotGrid(T1.T, 1, \"-\")\n",
        "plotGrid(T0.T, 1, fig=fig, ax=ax)\n",
        "\n",
        "plt.scatter(data0[0], data0[1])\n",
        "ax.set_xlim(-10, 10)\n",
        "ax.set_ylim(-10, 10)\n",
        "ax.set_xticks([])\n",
        "ax.set_yticks([])\n",
        "plt.show()"
      ],
      "cell_type": "code",
      "metadata": {
        "colab": {
          "base_uri": "https://localhost:8080/",
          "height": 406
        },
        "id": "LjmTiDhd4Zjr",
        "outputId": "61e79bfb-9535-4dd2-c413-cdf6ef2f6bb1"
      },
      "execution_count": 22,
      "outputs": [
        {
          "output_type": "display_data",
          "data": {
            "text/plain": [
              "<Figure size 640x480 with 1 Axes>"
            ],
            "image/png": "[encoded data removed]"
          },
          "metadata": {}
        }
      ]
    },
    {
      "cell_type": "code",
      "source": [
        "import numpy as np\n",
        "data0_c = np.matmul(T2, data1)\n",
        "data0_d = np.matmul(data1, T2.T)\n",
        "data0_e = np.matmul(T1, data2)\n",
        "data0_f = np.matmul(data2, T1.T)\n",
        "data0_g = np.matmul(T2, data2.T)\n",
        "data0_h = np.matmul(data2.T, T2.T)\n",
        "\n",
        "print(data0_c)\n",
        "print(data0_d)\n",
        "print(data0_e)\n",
        "print(data0_f)\n",
        "print(data0_g)\n",
        "data0_h"
      ],
      "metadata": {
        "colab": {
          "base_uri": "https://localhost:8080/"
        },
        "id": "zAPZVe3h40an",
        "outputId": "21e44772-7a7e-48e5-e85e-193ee86b9738"
      },
      "execution_count": 27,
      "outputs": [
        {
          "output_type": "stream",
          "name": "stdout",
          "text": [
            "[10 15]\n",
            "[10 15]\n",
            "[7 9]\n",
            "[7 9]\n",
            "[22 31]\n"
          ]
        },
        {
          "output_type": "execute_result",
          "data": {
            "text/plain": [
              "array([22, 31])"
            ]
          },
          "metadata": {},
          "execution_count": 27
        }
      ]
    },
    {
      "source": [
        "import numpy as np\n",
        "\n",
        "# Define data1. Replace with the appropriate data for your analysis\n",
        "data1 = np.array([3, 4]) # Example definition of data1\n",
        "\n",
        "data0_c = np.matmul(T2, data1)\n",
        "data0_d = np.matmul(data1, T2.T)\n",
        "data0_e = np.matmul(T1, data2)\n",
        "data0_f = np.matmul(data2, T1.T)\n",
        "data0_g = np.matmul(T2, data2.T)\n",
        "data0_h = np.matmul(data2.T, T2.T)\n",
        "\n",
        "print(data0_c)\n",
        "print(data0_d)\n",
        "print(data0_e)\n",
        "print(data0_f)\n",
        "print(data0_g)\n",
        "data0_h"
      ],
      "cell_type": "code",
      "metadata": {
        "colab": {
          "base_uri": "https://localhost:8080/"
        },
        "id": "Ie9ExNEd5JNX",
        "outputId": "139bffc0-267a-4a6a-aa73-d9cb818fe80d"
      },
      "execution_count": 25,
      "outputs": [
        {
          "output_type": "stream",
          "name": "stdout",
          "text": [
            "[10 15]\n",
            "[10 15]\n",
            "[7 9]\n",
            "[7 9]\n",
            "[22 31]\n"
          ]
        },
        {
          "output_type": "execute_result",
          "data": {
            "text/plain": [
              "array([22, 31])"
            ]
          },
          "metadata": {},
          "execution_count": 25
        }
      ]
    },
    {
      "cell_type": "markdown",
      "source": [
        "\n",
        "Why is transforming data useful? Data transformations cause the distance between data points to change. This will affect distance-based algorithms such as nearest neighbour"
      ],
      "metadata": {
        "id": "6g2gQW0j5VsW"
      }
    },
    {
      "source": [
        "import numpy as np\n",
        "\n",
        "# Define a function to calculate the Euclidean distance between two points\n",
        "def dist(p1, p2):\n",
        "    return np.linalg.norm(p1 - p2)\n",
        "\n",
        "# define 3 more points in T1\n",
        "D1 = np.array([-4, 1])\n",
        "E1 = np.array([0, 0])\n",
        "F1 = np.array([6, -2])\n",
        "\n",
        "# the corresponding points in T0:\n",
        "# Assuming T1 and T0 are already defined as numpy arrays representing transformation matrices\n",
        "# For demonstration purposes, let's define them as in the user's code context:\n",
        "T1 = np.array([[1, 0], [-1, 2]])\n",
        "T0 = np.array([[1, 0], [0, 1]])\n",
        "\n",
        "\n",
        "D0 = np.matmul(T1, D1)\n",
        "E0 = np.matmul(T1, E1)\n",
        "F0 = np.matmul(T1, F1)\n",
        "\n",
        "# distance between the points in T1\n",
        "print(\"Distance between D and E in T1 = \", dist(D1, E1))\n",
        "print(\"Distance between E and F in T1 = \", dist(E1, F1))\n",
        "print(\"Distance between D and F in T1 = \", dist(D1, F1))\n",
        "\n",
        "# distnace between the points in T0\n",
        "print(\"Distance between D and E in T0 = \", dist(D0, E0))\n",
        "print(\"Distance between E and F in T0 = \", dist(E0, F0))\n",
        "print(\"Distance between D and F in T0 = \", dist(D0, F0))"
      ],
      "cell_type": "code",
      "metadata": {
        "colab": {
          "base_uri": "https://localhost:8080/"
        },
        "id": "E__rfBmE52t_",
        "outputId": "a207b46c-fda4-469f-a552-653098c5711d"
      },
      "execution_count": 30,
      "outputs": [
        {
          "output_type": "stream",
          "name": "stdout",
          "text": [
            "Distance between D and E in T1 =  4.123105625617661\n",
            "Distance between E and F in T1 =  6.324555320336759\n",
            "Distance between D and F in T1 =  10.44030650891055\n",
            "Distance between D and E in T0 =  7.211102550927978\n",
            "Distance between E and F in T0 =  11.661903789690601\n",
            "Distance between D and F in T0 =  18.867962264113206\n"
          ]
        }
      ]
    },
    {
      "cell_type": "markdown",
      "source": [
        "\n",
        "We see that in T1, B and C are the closest whereas in T0, A and C are the closest. These kinds of changes will affect the predictions returned by the nearest neighbour algorithm."
      ],
      "metadata": {
        "id": "vPsFgP2t5-g-"
      }
    },
    {
      "cell_type": "markdown",
      "source": [
        "Transformations on MNIST\n",
        "Let us experiment with a subset of the MNIST dataset. We will extract two features from the database for our experiment. We will then transform the data using a transformation matrix and visualize the data in the new coordinate system. We will also see how normalization can help in improving the accuracy of the model. We will reuse previous labs code for this."
      ],
      "metadata": {
        "id": "_FDYxVWy5_cW"
      }
    },
    {
      "cell_type": "code",
      "source": [
        "import numpy as np\n",
        "def NewNN(traindata_new, trainlabel_new, testdata_new):\n",
        "    \"\"\"\n",
        "    New Nearest Neighbour function\n",
        "    \"\"\"\n",
        "    predlabel_new = np.array([NN1(traindata_new, trainlabel_new, i) for i in testdata_new])\n",
        "    return predlabel_new"
      ],
      "metadata": {
        "id": "NKXdkToy6Dwd"
      },
      "execution_count": 32,
      "outputs": []
    },
    {
      "source": [
        "# loading the dataset\n",
        "(train_X, train_y), (test_X, test_y) = mnist.load_data()\n",
        "train_X = train_X / 255\n",
        "test_X = test_X / 255\n",
        "\n",
        "nclasses = 5 # Increased the number of classes to 5\n",
        "\n",
        "# get only for the first 5 classes\n",
        "train_X = train_X[train_y < nclasses]\n",
        "train_y = train_y[train_y < nclasses]\n",
        "test_X = test_X[test_y < nclasses]\n",
        "test_y = test_y[test_y < nclasses]\n",
        "\n",
        "# We are only taking a subset of the training set, taking every 50th sample\n",
        "train_X = train_X[::50].copy()\n",
        "train_y = train_y[::50].copy()  # do the same to the labels\n",
        "\n",
        "# taking a subset of the test set. This code takes every 200th sample\n",
        "test_X = test_X[::200].copy()\n",
        "test_y = test_y[::200].copy()"
      ],
      "cell_type": "code",
      "metadata": {
        "colab": {
          "base_uri": "https://localhost:8080/"
        },
        "id": "GDqcCccm7Mda",
        "outputId": "69a90826-04fd-45c4-eea8-f7cc3a6100c1"
      },
      "execution_count": 37,
      "outputs": [
        {
          "output_type": "stream",
          "name": "stdout",
          "text": [
            "Downloading data from https://storage.googleapis.com/tensorflow/tf-keras-datasets/mnist.npz\n",
            "\u001b[1m11490434/11490434\u001b[0m \u001b[32m━━━━━━━━━━━━━━━━━━━━\u001b[0m\u001b[37m\u001b[0m \u001b[1m0s\u001b[0m 0us/step\n"
          ]
        }
      ]
    },
    {
      "cell_type": "code",
      "source": [
        "import numpy as np\n",
        "print(np.matmul(T2, data1))\n",
        "print(np.matmul(data1, T2.T))\n",
        "print(np.matmul(T1, data2))\n",
        "print(np.matmul(data2, T1.T))\n",
        "print(np.matmul(T2, data2.T))\n",
        "print(np.matmul(data2.T, T2.T))"
      ],
      "metadata": {
        "colab": {
          "base_uri": "https://localhost:8080/"
        },
        "id": "k_4X076Q7Txr",
        "outputId": "540feb80-a707-48e7-a8fa-85803ee1a48c"
      },
      "execution_count": 42,
      "outputs": [
        {
          "output_type": "stream",
          "name": "stdout",
          "text": [
            "[10 15]\n",
            "[10 15]\n",
            "[7 9]\n",
            "[7 9]\n",
            "[22 31]\n",
            "[22 31]\n"
          ]
        }
      ]
    },
    {
      "cell_type": "markdown",
      "source": [
        "Let us plot the samples and see what they look like"
      ],
      "metadata": {
        "id": "JCwRLSYY8XuG"
      }
    },
    {
      "source": [
        "# fix limits of x and y axis so that we can see what is going on\n",
        "xlim1 = [-50, 250] # Changed xlim range\n",
        "ylim1 = [-50, 250] # Changed ylim range\n",
        "\n",
        "# Define train_feats by reshaping train_X\n",
        "train_feats = train_X.reshape(train_X.shape[0], -1)\n",
        "\n",
        "fig1, ax1 = plotData(train_feats, train_y)\n",
        "ax1.set_xlim(xlim1)\n",
        "ax1.set_ylim(ylim1)\n",
        "plt.show()\n",
        "\n",
        "xlim2 = [-200, 400] # Another set of xlim range\n",
        "ylim2 = [-200, 400] # Another set of ylim range\n",
        "fig2, ax2 = plotData(train_feats, train_y)\n",
        "ax2.set_xlim(xlim2)\n",
        "ax2.set_ylim(ylim2)\n",
        "plt.show()"
      ],
      "cell_type": "code",
      "metadata": {
        "colab": {
          "base_uri": "https://localhost:8080/",
          "height": 893
        },
        "id": "0gd4DSiM8D7A",
        "outputId": "f3750eb1-198f-4382-fdb2-8ede24435348"
      },
      "execution_count": 41,
      "outputs": [
        {
          "output_type": "display_data",
          "data": {
            "text/plain": [
              "<Figure size 640x480 with 1 Axes>"
            ],
            "image/png": "[encoded data removed]"
          },
          "metadata": {}
        },
        {
          "output_type": "display_data",
          "data": {
            "text/plain": [
              "<Figure size 640x480 with 1 Axes>"
            ],
            "image/png": "[encoded data removed]"
          },
          "metadata": {}
        }
      ]
    },
    {
      "cell_type": "markdown",
      "source": [
        "Check the baseline accuracy on the test se"
      ],
      "metadata": {
        "id": "-SxeD6-O8fnm"
      }
    },
    {
      "source": [
        " import numpy as np\n",
        "\n",
        "def NN1(traindata, trainlabel, testdata):\n",
        "    \"\"\"\n",
        "    Nearest Neighbour function for a single test data point.\n",
        "    Finds the nearest neighbor of the test data point in the training data\n",
        "    and returns the label of the nearest neighbor.\n",
        "    \"\"\"\n",
        "    distances = np.sum((traindata - testdata)**2, axis=1)\n",
        "    nearest_neighbor_index = np.argmin(distances)\n",
        "    return trainlabel[nearest_neighbor_index]\n",
        "\n",
        "def NewNN(traindata_new, trainlabel_new, testdata_new):\n",
        "    \"\"\"\n",
        "    New Nearest Neighbour function\n",
        "    \"\"\"\n",
        "    predlabel_new = np.array([NN1(traindata_new, trainlabel_new, i) for i in testdata_new])\n",
        "    return predlabel_new\n",
        "\n",
        "# Define the Accuracy function\n",
        "def Accuracy(groundtruth, predictions):\n",
        "    \"\"\"\n",
        "    Calculates the accuracy of predictions compared to ground truth.\n",
        "    \"\"\"\n",
        "    correct_predictions = np.sum(groundtruth == predictions)\n",
        "    accuracy = correct_predictions / len(groundtruth)\n",
        "    return accuracy\n",
        "\n",
        "# Define test_feats by reshaping test_X\n",
        "test_feats = test_X.reshape(test_X.shape[0], -1)\n",
        "\n",
        "test_pred_scaled = NewNN(train_feats * 0.5, train_y, test_feats * 0.5)\n",
        "acc_scaled = Accuracy(test_y, test_pred_scaled)\n",
        "print(\"Scaled accuracy:\", acc_scaled*100, \"%\")\n",
        "\n",
        "test_pred_translated = NewNN(train_feats + 10, train_y, test_feats + 10)\n",
        "acc_translated = Accuracy(test_y, test_pred_translated)\n",
        "print(\"Translated accuracy:\", acc_translated*100, \"%\")\n"
      ],
      "cell_type": "code",
      "metadata": {
        "colab": {
          "base_uri": "https://localhost:8080/"
        },
        "id": "6xTOLxqm9Wfc",
        "outputId": "87fdb204-1829-4e4e-a332-400c953179ab"
      },
      "execution_count": 47,
      "outputs": [
        {
          "output_type": "stream",
          "name": "stdout",
          "text": [
            "Scaled accuracy: 96.15384615384616 %\n",
            "Translated accuracy: 96.15384615384616 %\n"
          ]
        }
      ]
    },
    {
      "cell_type": "markdown",
      "source": [
        "Let us try transforming the features and checking their accuracy. The intuition to using the transformation matrix is to find the basis vectors of the dataset and transform the data to a new coordinate system where the basis vectors are orthogonal. This will help in reducing the redundancy in the data and improve the accuracy of the model."
      ],
      "metadata": {
        "id": "d0JrXGlJ9dBj"
      }
    },
    {
      "source": [
        "import numpy as np\n",
        "import matplotlib.pyplot as plt\n",
        "\n",
        "# Assuming plotData is defined elsewhere and imported or available in the environment\n",
        "# from your_module import plotData # Uncomment and modify if plotData is in a separate file\n",
        "\n",
        "# Assuming train_feats_t and train_y are already defined from previous steps\n",
        "\n",
        "# Define the limits for the x and y axes\n",
        "xlim = [-50, 250]\n",
        "ylim = [-50, 250]\n",
        "\n",
        "fig, ax = plotData(train_feats_t, train_y)\n",
        "ax.set_xlim(xlim)\n",
        "ax.set_ylim(ylim)\n",
        "plt.show()"
      ],
      "cell_type": "code",
      "metadata": {
        "colab": {
          "base_uri": "https://localhost:8080/",
          "height": 544
        },
        "id": "KZ0_-ZmN-Obx",
        "outputId": "b4847397-4b27-4a6f-8db0-8db263056cad"
      },
      "execution_count": 54,
      "outputs": [
        {
          "output_type": "stream",
          "name": "stderr",
          "text": [
            "<ipython-input-4-5958fa307a3f>:12: UserWarning: Attempting to set identical low and high xlims makes transformation singular; automatically expanding.\n",
            "  ax.set_xlim([-lim, lim])\n",
            "<ipython-input-4-5958fa307a3f>:13: UserWarning: Attempting to set identical low and high ylims makes transformation singular; automatically expanding.\n",
            "  ax.set_ylim([-lim, lim])\n"
          ]
        },
        {
          "output_type": "display_data",
          "data": {
            "text/plain": [
              "<Figure size 640x480 with 1 Axes>"
            ],
            "image/png": "[encoded data removed]"
          },
          "metadata": {}
        }
      ]
    },
    {
      "source": [
        "import numpy as np\n",
        "def NN1(traindata, trainlabel, testdata):\n",
        "    \"\"\"\n",
        "    Nearest Neighbour function for a single test data point.\n",
        "    Finds the nearest neighbor of the test data point in the training data\n",
        "    and returns the label of the nearest neighbor.\n",
        "    \"\"\"\n",
        "    distances = np.sum((traindata - testdata)**2, axis=1)\n",
        "    nearest_neighbor_index = np.argmin(distances)\n",
        "    return trainlabel[nearest_neighbor_index]\n",
        "\n",
        "def NewNN(traindata_new, trainlabel_new, testdata_new):\n",
        "    \"\"\"\n",
        "    New Nearest Neighbour function\n",
        "    \"\"\"\n",
        "    predlabel_new = np.array([NN1(traindata_new, trainlabel_new, i) for i in testdata_new])\n",
        "    return predlabel_new\n",
        "\n",
        "def Accuracy(groundtruth, predictions):\n",
        "    \"\"\"\n",
        "    Calculates the accuracy of predictions compared to ground truth.\n",
        "    \"\"\"\n",
        "    correct_predictions = np.sum(groundtruth == predictions)\n",
        "    accuracy = correct_predictions / len(groundtruth)\n",
        "    return accuracy\n",
        "\n",
        "# Assuming train_feats_t, train_y, test_feats_t, and test_y are defined from previous steps\n",
        "# Replace the undefined NN function call with the correct NewNN function\n",
        "test_pred = NewNN(train_feats_t, train_y, test_feats_t)\n",
        "acc = Accuracy(test_y, test_pred)\n",
        "print(\"Baseline accuracy:\", acc*100, \"%\", \"for\", nclasses, \"classes\")"
      ],
      "cell_type": "code",
      "metadata": {
        "colab": {
          "base_uri": "https://localhost:8080/"
        },
        "id": "4gcu8mWg-YK3",
        "outputId": "5129d0b9-827f-4281-b3ea-a08a92eaa72a"
      },
      "execution_count": 56,
      "outputs": [
        {
          "output_type": "stream",
          "name": "stdout",
          "text": [
            "Baseline accuracy: 11.538461538461538 % for 5 classes\n"
          ]
        }
      ]
    },
    {
      "cell_type": "markdown",
      "source": [
        "Questions:\n",
        "1. Experiment with different transformation matrices and check the accuracy\n",
        "2.Will the same transform used for these two features also work for other features?"
      ],
      "metadata": {
        "id": "gkkg26yW-fG3"
      }
    },
    {
      "cell_type": "code",
      "source": [
        "import numpy as np\n",
        "# Q1: Experiment with different transformation matrices and check the accuracy\n",
        "# Create a few different transformation matrices\n",
        "transforms = [\n",
        "    np.array([[1, 0.5], [0.5, 1]]),\n",
        "    np.array([[2, 0], [0, 0.5]]),\n",
        "    np.array([[0, 1], [1, 0]])\n",
        "]\n",
        "for t in transforms:\n",
        "    train_t, test_t = np.matmul(train_feats_2d, t), np.matmul(test_feats_2d, t)\n",
        "    acc = Accuracy(test_y, NewNN(train_t, train_y, test_t))\n",
        "    print(f\"Transform: {t.tolist()}, Accuracy: {acc*100:.2f}%\")\n",
        "\n",
        "# Q2: Will the same transform used for these two features also work for other features?\n",
        "# Apply the previous transform to different pairs of features\n",
        "other_features_train = train_feats[:, 2:4] # Example: features 2 and 3\n",
        "other_features_test = test_feats[:, 2:4]\n",
        "transform_q2 = np.array([[3.5, -1.5], [4.2, 2.5]]) # Using the transform from the original code\n",
        "train_other_t = np.matmul(other_features_train, transform_q2)\n",
        "test_other_t = np.matmul(other_features_test, transform_q2)\n",
        "acc_other_features = Accuracy(test_y, NewNN(train_other_t, train_y, test_other_t))\n",
        "print(f\"Accuracy with transform on other features: {acc_other_features*100:.2f}%\")\n"
      ],
      "metadata": {
        "colab": {
          "base_uri": "https://localhost:8080/"
        },
        "id": "g-VUU03V-lMw",
        "outputId": "840c427b-db77-4fa1-826f-af288ec4f02c"
      },
      "execution_count": 57,
      "outputs": [
        {
          "output_type": "stream",
          "name": "stdout",
          "text": [
            "Transform: [[1.0, 0.5], [0.5, 1.0]], Accuracy: 11.54%\n",
            "Transform: [[2.0, 0.0], [0.0, 0.5]], Accuracy: 11.54%\n",
            "Transform: [[0, 1], [1, 0]], Accuracy: 11.54%\n",
            "Accuracy with transform on other features: 11.54%\n"
          ]
        }
      ]
    },
    {
      "cell_type": "markdown",
      "source": [
        "Exercise: Is it possible that adding all 4 features at a time is not the best strategy? Can you think of a better combination of features that can help in improving the accuracy of the model? Maybe you can try adding 2 features at a time and see if that helps."
      ],
      "metadata": {
        "id": "ZEgdJuSa_E_3"
      }
    },
    {
      "cell_type": "code",
      "source": [
        "# Function to evaluate combinations of features\n",
        "def evaluate_feature_combination(train_data, test_data, train_labels, test_labels, feature_indices):\n",
        "    selected_train_feats = train_data[:, feature_indices]\n",
        "    selected_test_feats = test_data[:, feature_indices]\n",
        "    test_pred = NewNN(selected_train_feats, train_labels, selected_test_feats)\n",
        "    acc = Accuracy(test_labels, test_pred)\n",
        "    return acc\n",
        "\n",
        "# Example: Evaluating combinations of 2 features (first few pairs)\n",
        "print(\"\\nEvaluating pairs of features:\")\n",
        "# Iterate through combinations of 2 features\n",
        "import itertools\n",
        "for feat_indices in itertools.combinations(range(train_feats.shape[1]), 2):\n",
        "    acc = evaluate_feature_combination(train_feats, test_feats, train_y, test_y, list(feat_indices))\n",
        "    print(f\"Features {feat_indices}: Accuracy = {acc*100:.2f}%\")\n",
        "    # Stop after evaluating a few combinations to avoid excessive output\n",
        "    if list(feat_indices) == [0, 1]: break # Example: evaluate first two features and stop\n",
        "\n",
        "# You would typically want to iterate through a more strategic or comprehensive set of combinations."
      ],
      "metadata": {
        "colab": {
          "base_uri": "https://localhost:8080/"
        },
        "id": "dWmgSlnF_GKW",
        "outputId": "d43e48f2-f2ea-445d-b4ff-e56f99893824"
      },
      "execution_count": 58,
      "outputs": [
        {
          "output_type": "stream",
          "name": "stdout",
          "text": [
            "\n",
            "Evaluating pairs of features:\n",
            "Features (0, 1): Accuracy = 11.54%\n"
          ]
        }
      ]
    },
    {
      "cell_type": "markdown",
      "source": [
        "**Data normalization**\n",
        "\n",
        "Sometimes the features of our data have vastly different scales. This will cause the learning algorithm to give more importance to certain features, reducing its performance. Data normalization is a method in which we transform the features so that they have similar scales.\n",
        "\n",
        "Three commonly used feature scaling techniques are rescaling, mean normalization and z-score normalization. Here, we will talk about the simplest one: rescaling.\n",
        "\n",
        "x′=x−min(x)max(x)−min(x)\n",
        "\n",
        "For more information, see this page."
      ],
      "metadata": {
        "id": "21zCMH58_h10"
      }
    },
    {
      "cell_type": "code",
      "source": [
        "def rescale(data, new_min, new_max):\n",
        "    old_min = data.min()\n",
        "    old_max = data.max()\n",
        "    return new_min + ((data - old_min) * (new_max - new_min)) / (old_max - old_min)"
      ],
      "metadata": {
        "id": "gWI1rfeG_kF-"
      },
      "execution_count": 59,
      "outputs": []
    },
    {
      "cell_type": "markdown",
      "source": [
        "We have to apply the rescaling to each feature individually. Also remember to apply the same transform we are using on the train set to the test set."
      ],
      "metadata": {
        "id": "bZhQjr7u_zfd"
      }
    },
    {
      "cell_type": "code",
      "source": [
        "import numpy as np\n",
        "train_feats_rescaled_a = rescale(train_feats[:, 5], -5, 5)\n",
        "train_feats_rescaled_b = rescale(train_feats[:, 10], -5, 5)\n",
        "train_feats_rescaled_new = np.stack((train_feats_rescaled_a, train_feats_rescaled_b), 1)\n",
        "test_feats_rescaled_a = rescale(test_feats[:, 5], -5, 5)\n",
        "test_feats_rescaled_b = rescale(test_feats[:, 10], -5, 5)\n",
        "test_feats_rescaled_new = np.stack((test_feats_rescaled_a, test_feats_rescaled_b), 1)"
      ],
      "metadata": {
        "colab": {
          "base_uri": "https://localhost:8080/"
        },
        "id": "nY3hz7U6_0EN",
        "outputId": "6b4a21e5-70dc-4dc5-aa65-9437e039b24b"
      },
      "execution_count": 60,
      "outputs": [
        {
          "output_type": "stream",
          "name": "stderr",
          "text": [
            "<ipython-input-59-85a693d66ec9>:7: RuntimeWarning: invalid value encountered in divide\n",
            "  return new_min + ((data - old_min) * (new_max - new_min)) / (old_max - old_min)\n"
          ]
        }
      ]
    },
    {
      "cell_type": "markdown",
      "source": [
        "Let us plot the rescaled features:"
      ],
      "metadata": {
        "id": "bD_oTpwx__yr"
      }
    },
    {
      "source": [
        "import numpy as np\n",
        "import matplotlib.pyplot as plt\n",
        "\n",
        "# Define the limits for the x and y axes\n",
        "xlim = [-50, 250]\n",
        "ylim = [-50, 250]\n",
        "\n",
        "# Define a function to calculate the Euclidean distance between two points\n",
        "def dist(p1, p2):\n",
        "    return np.linalg.norm(p1 - p2)\n",
        "\n",
        "def NN1(traindata, trainlabel, testdata):\n",
        "    \"\"\"\n",
        "    Nearest Neighbour function for a single test data point.\n",
        "    Finds the nearest neighbor of the test data point in the training data\n",
        "    and returns the label of the nearest neighbor.\n",
        "    \"\"\"\n",
        "    distances = np.sum((traindata - testdata)**2, axis=1)\n",
        "    nearest_neighbor_index = np.argmin(distances)\n",
        "    return trainlabel[nearest_neighbor_index]\n",
        "\n",
        "def NewNN(traindata_new, trainlabel_new, testdata_new):\n",
        "    \"\"\"\n",
        "    New Nearest Neighbour function\n",
        "    \"\"\"\n",
        "    predlabel_new = np.array([NN1(traindata_new, trainlabel_new, i) for i in testdata_new])\n",
        "    return predlabel_new\n",
        "\n",
        "def Accuracy(groundtruth, predictions):\n",
        "    \"\"\"\n",
        "    Calculates the accuracy of predictions compared to ground truth.\n",
        "    \"\"\"\n",
        "    correct_predictions = np.sum(groundtruth == predictions)\n",
        "    accuracy = correct_predictions / len(groundtruth)\n",
        "    return accuracy\n",
        "\n",
        "def plotData(X, y, xlabel=\"hole\", ylabel=\"bound\", fig=None, ax=None):\n",
        "    if fig is None:\n",
        "        fig, ax = plt.subplots()\n",
        "    for ii in range(nclasses):\n",
        "        plt.scatter(X[y == ii, 0], X[y == ii, 1])\n",
        "    plt.legend([str(i) for i in range(nclasses)])\n",
        "    plt.xlabel(xlabel)\n",
        "    plt.ylabel(ylabel)\n",
        "    # Check for NaN or Inf values before calculating limits\n",
        "    if np.any(np.isnan(X)) or np.any(np.isinf(X)):\n",
        "        print(\"Warning: Data contains NaN or Inf values. Cannot set automatic axis limits.\")\n",
        "        # You might want to set default limits or handle this case differently\n",
        "        # For example, you could skip setting limits or set a fixed range\n",
        "        # ax.set_xlim([-10, 10])\n",
        "        # ax.set_ylim([-10, 10])\n",
        "    else:\n",
        "        lim2 = X.max()\n",
        "        lim1 = X.min()\n",
        "        lim = np.max([-lim1, lim2])\n",
        "        ax.set_xlim([-lim, lim])\n",
        "        ax.set_ylim([-lim, lim])\n",
        "    return fig, ax\n",
        "\n",
        "def rescale(data, new_min, new_max):\n",
        "    old_min = data.min()\n",
        "    old_max = data.max()\n",
        "    # Add a check to avoid division by zero if old_max and old_min are the same\n",
        "    if old_max == old_min:\n",
        "        return np.full_like(data, new_min) # Return an array filled with new_min if data is constant\n",
        "    return new_min + ((data - old_min) * (new_max - new_min)) / (old_max - old_min)\n",
        "\n",
        "\n",
        "# Assuming train_feats and train_y are defined from previous steps\n",
        "# train_feats_rescaled_x = rescale(train_feats[:, 0])\n",
        "# train_feats_rescaled_y = rescale(train_feats[:, 1])\n",
        "# train_feats_rescaled = np.stack((train_feats_rescaled_x, train_feats_rescaled_y), 1)\n",
        "# test_feats_rescaled_x = rescale(test_feats[:, 0])\n",
        "# test_feats_rescaled_y = rescale(test_feats[:, 1])\n",
        "# test_feats_rescaled = np.stack((test_feats_rescaled_x, test_feats_rescaled_y), 1)\n",
        "\n",
        "# Check for NaNs in the original train_feats before selecting columns and rescaling\n",
        "if np.any(np.isnan(train_feats)):\n",
        "    print(\"Warning: train_feats contains NaN values. These will be propagated.\")\n",
        "    # Consider handling NaNs in train_feats, e.g., imputation or removal\n",
        "\n",
        "train_feats_rescaled_a = rescale(train_feats[:, 5], -5, 5)\n",
        "train_feats_rescaled_b = rescale(train_feats[:, 10], -5, 5)\n",
        "train_feats_rescaled_new = np.stack((train_feats_rescaled_a, train_feats_rescaled_b), 1)\n",
        "\n",
        "# Check for NaNs in the original test_feats before selecting columns and rescaling\n",
        "if np.any(np.isnan(test_feats)):\n",
        "     print(\"Warning: test_feats contains NaN values. These will be propagated.\")\n",
        "     # Consider handling NaNs in test_feats, e.g., imputation or removal\n",
        "\n",
        "test_feats_rescaled_a = rescale(test_feats[:, 5], -5, 5)\n",
        "test_feats_rescaled_b = rescale(test_feats[:, 10], -5, 5)\n",
        "test_feats_rescaled_new = np.stack((test_feats_rescaled_a, test_feats_rescaled_b), 1)\n",
        "\n",
        "# Check for NaN or Inf in the rescaled data before plotting\n",
        "if np.any(np.isnan(train_feats_rescaled_new)) or np.any(np.isinf(train_feats_rescaled_new)):\n",
        "    print(\"Error: Rescaled training data contains NaN or Inf values. Cannot plot.\")\n",
        "else:\n",
        "    fig, ax = plotData(train_feats_rescaled_new, train_y, xlabel=\"Feature 5 (Rescaled)\", ylabel=\"Feature 10 (Rescaled)\")\n",
        "    ax.set_xlim([-6, 6])\n",
        "    ax.set_ylim([-6, 6])\n",
        "    plt.title(\"Rescaled Features\")\n",
        "    plt.show()"
      ],
      "cell_type": "code",
      "metadata": {
        "colab": {
          "base_uri": "https://localhost:8080/",
          "height": 472
        },
        "id": "i-qdOR_bAkyU",
        "outputId": "11a232d6-648b-47cf-8b43-3208f9da8d81"
      },
      "execution_count": 62,
      "outputs": [
        {
          "output_type": "display_data",
          "data": {
            "text/plain": [
              "<Figure size 640x480 with 1 Axes>"
            ],
            "image/png": "[encoded data removed]"
          },
          "metadata": {}
        }
      ]
    },
    {
      "cell_type": "markdown",
      "source": [
        "This type of rescaling makes all the features between 0 and 1.\n",
        "\n",
        "Let us calculate the accuracy obtained by this transform:"
      ],
      "metadata": {
        "id": "paCrFyeGCf60"
      }
    },
    {
      "source": [
        "import numpy as np\n",
        "\n",
        "# Calculate predictions using the NewNN function with the newly rescaled features\n",
        "test_pred_rescaled = NewNN(train_feats_rescaled_new, train_y, test_feats_rescaled_new)\n",
        "\n",
        "# Calculate the accuracy of the predictions\n",
        "acc_rescaled = Accuracy(test_y, test_pred_rescaled)\n",
        "\n",
        "# Print the accuracy with a clear label indicating the data transformation\n",
        "print(\"Accuracy after rescaling features 5 and 10:\", acc_rescaled * 100, \"%\")"
      ],
      "cell_type": "code",
      "metadata": {
        "colab": {
          "base_uri": "https://localhost:8080/"
        },
        "id": "iMC7-i0IA5fa",
        "outputId": "fe4706c3-8af3-4a3a-db5f-51889eb5661b"
      },
      "execution_count": 63,
      "outputs": [
        {
          "output_type": "stream",
          "name": "stdout",
          "text": [
            "Accuracy after rescaling features 5 and 10: 11.538461538461538 %\n"
          ]
        }
      ]
    },
    {
      "cell_type": "markdown",
      "source": [
        "All 2D linear transformations can be repreented by a transformation matrix. So what is the matrix associated with the rescaling function? Actually, we cannot represent rescaling with a matrix multiplication, because it is not a linear transform. Rescaling involves shifting the origin of the data, which is not allowed under linear transformations.\n",
        "\n",
        "We can represent rescaling as a matrix multiplication followed by a vector addition. Let our first feature vector be called X and second feature vector be called Y. Suppose we want to rescale a data point [a,b]\n"
      ],
      "metadata": {
        "id": "Php4f25QCOX9"
      }
    }
  ]
}